{
 "cells": [
  {
   "cell_type": "markdown",
   "metadata": {},
   "source": [
    "# OR calculations"
   ]
  },
  {
   "cell_type": "markdown",
   "metadata": {},
   "source": [
    "Author: Scott Pew"
   ]
  },
  {
   "cell_type": "markdown",
   "metadata": {},
   "source": [
    "This notebook is written in R and requires a few inputs:\n",
    "\n",
    "* Control and case counts\n",
    "* Population frequency of disease\n",
    "* Odds ratio threshold\n",
    "* Output from the three workflows\n",
    "* Functional threshold score cutoffs\n"
   ]
  },
  {
   "cell_type": "code",
   "execution_count": null,
   "metadata": {},
   "outputs": [],
   "source": [
    "##Version 1.0.\n",
    "## still need to adjust OR by ethnicity"
   ]
  },
  {
   "cell_type": "code",
   "execution_count": 1,
   "metadata": {},
   "outputs": [
    {
     "name": "stderr",
     "output_type": "stream",
     "text": [
      "── \u001b[1mAttaching core tidyverse packages\u001b[22m ──────────────────────── tidyverse 2.0.0 ──\n",
      "\u001b[32m✔\u001b[39m \u001b[34mdplyr    \u001b[39m 1.1.4     \u001b[32m✔\u001b[39m \u001b[34mreadr    \u001b[39m 2.1.5\n",
      "\u001b[32m✔\u001b[39m \u001b[34mforcats  \u001b[39m 1.0.0     \u001b[32m✔\u001b[39m \u001b[34mstringr  \u001b[39m 1.5.1\n",
      "\u001b[32m✔\u001b[39m \u001b[34mggplot2  \u001b[39m 3.5.1     \u001b[32m✔\u001b[39m \u001b[34mtibble   \u001b[39m 3.2.1\n",
      "\u001b[32m✔\u001b[39m \u001b[34mlubridate\u001b[39m 1.9.3     \u001b[32m✔\u001b[39m \u001b[34mtidyr    \u001b[39m 1.3.1\n",
      "\u001b[32m✔\u001b[39m \u001b[34mpurrr    \u001b[39m 1.0.2     \n",
      "── \u001b[1mConflicts\u001b[22m ────────────────────────────────────────── tidyverse_conflicts() ──\n",
      "\u001b[31m✖\u001b[39m \u001b[34mdplyr\u001b[39m::\u001b[32mfilter()\u001b[39m masks \u001b[34mstats\u001b[39m::filter()\n",
      "\u001b[31m✖\u001b[39m \u001b[34mdplyr\u001b[39m::\u001b[32mlag()\u001b[39m    masks \u001b[34mstats\u001b[39m::lag()\n",
      "\u001b[36mℹ\u001b[39m Use the conflicted package (\u001b[3m\u001b[34m<http://conflicted.r-lib.org/>\u001b[39m\u001b[23m) to force all conflicts to become errors\n"
     ]
    }
   ],
   "source": [
    "library(tidyverse)"
   ]
  },
  {
   "cell_type": "markdown",
   "metadata": {},
   "source": [
    "This script takes case control observational data as input and computes odds ratios\n",
    "for user defined analytic subsets. It also calculates the proportion of variants\n",
    "that are pathogenic in each subset."
   ]
  },
  {
   "cell_type": "code",
   "execution_count": 3,
   "metadata": {},
   "outputs": [],
   "source": [
    "#Lines 104-118 set user defined thresholds\n",
    "#Lines 121-209 do computations"
   ]
  },
  {
   "cell_type": "markdown",
   "metadata": {},
   "source": [
    "## define functions"
   ]
  },
  {
   "cell_type": "code",
   "execution_count": 7,
   "metadata": {},
   "outputs": [],
   "source": [
    "#functions for proportion pathogenic calculation\n",
    "probfromrelativerisk = function(delta0, rho)\n",
    "{\n",
    "  rho * delta0\n",
    "}\n",
    "\n",
    "probfromoddsratio = function(delta0, phi)\n",
    "{\n",
    "  phi * delta0 / ( 1 + delta0 * (phi-1))\n",
    "}\n",
    "\n",
    "delta = function(p,l,d0,d1)\n",
    "{\n",
    "  d0 * exp(-p*l) + d1*(1-exp(-p*l))\n",
    "}\n",
    "\n",
    "alpha = function(p,l,d0,d1)\n",
    "{\n",
    "  1 - (1-d0)*exp(-l) / (1-delta(p,l,d0,d1))\n",
    "}\n",
    "\n",
    "beta = function(p,l,d0,d1)\n",
    "{\n",
    "  1 - d0*exp(-l) / delta(p,l,d0,d1)\n",
    "}\n",
    "\n",
    "lambda = function(a,b,d0)\n",
    "{\n",
    "  log( ((1-b)*(1-d0) + (1-a)*d0) / (1-a)/(1-b))\n",
    "}\n",
    "\n",
    "pp = function(a,b,d0,d1)\n",
    "{\n",
    "  p = (d1-d0) * ((1-b)*(1-d0) + (1-a)*d0)\n",
    "  p = p / ( (1-b)*d1*(1-d0) - (1-a)*d0*(1-d1) )\n",
    "  log(p) / lambda(a,b,d0)\n",
    "}\n",
    "\n",
    "propallpath = function(x,n,y,m,d0,d1)\n",
    "{\n",
    "  p = pp(x/n,y/m,d0,d1)\n",
    "  p[p<0] = 0\n",
    "  p[p>1] = 1\n",
    "  p\n",
    "}\n",
    "\n",
    "\n",
    "propobspath = function(x,n,y,m,d0,d1)\n",
    "{\n",
    "  p = propallpath(x,n,y,m,d0,d1)\n",
    "  l = lambda(x/n,y/m,d0)\n",
    "  d = delta(p,l,d0,d1)\n",
    "  \n",
    "  ai = (p * (1-d1) + (1-p) * (1-d)) / (1-d)\n",
    "  bi = (p * d1 + (1-p)*d) / d \n",
    "  pobs = n * ai + m * bi\n",
    "  aip = p * (1-d1) /(1-d)\n",
    "  bip = p * d1 / d\n",
    "  ppathobs = n*aip + m * bip\n",
    "  ppathobs/pobs\n",
    "}\n",
    "\n",
    "bootall = function(x,n,y,m,d0,d1,b=1000)\n",
    "{\n",
    "  xjs = rbinom(b,n,x/n)\n",
    "  yjs = rbinom(b,m,y/m)\n",
    "  propallpath(xjs,n,yjs,m,d0,d1)\n",
    "}\n",
    "\n",
    "bootobs = function(x,n,y,m,d0,d1,b=1000)\n",
    "{\n",
    "  xjs = rbinom(b,n,x/n)\n",
    "  yjs = rbinom(b,m,y/m)\n",
    "  propobspath(xjs,n,yjs,m,d0,d1)\n",
    "}\n",
    "\n",
    "loglike = function(x,n,y,m,p,l,d0,d1)\n",
    "{\n",
    "  a = alpha(p,l,d0,d1)\n",
    "  b = beta(p,l,d0,d1)\n",
    "  x * log(a) + (n-x)*log(1-a) + y * log(b) + (m-y) * log(1-b)\n",
    "}\n",
    "\n",
    "llplot = function(x,n,y,m,d0,d1)\n",
    "{\n",
    "  phat = propallpath(x,n,y,m,d0,d1)\n",
    "  allp = (0:100)/100\n",
    "  lhat = lambda(x/n,y/m,d0)\n",
    "  ll = loglike(x,n,y,m,allp,lhat,d0,d1)\n",
    "  xl = paste(\"MLE for p is \",round(100*phat,2),\"%\",sep=\"\")\n",
    "  plot(allp,ll,type=\"l\",xlab=xl,ylab=\"Log likelihood\")\n",
    "  lines(c(phat,phat),range(ll),col=2)\n",
    "}"
   ]
  },
  {
   "cell_type": "markdown",
   "metadata": {},
   "source": [
    "## set user defined thresholds"
   ]
  },
  {
   "cell_type": "markdown",
   "metadata": {},
   "source": [
    "### define functional thresholds"
   ]
  },
  {
   "cell_type": "markdown",
   "metadata": {},
   "source": [
    "ACTION: Input the loss of function score threshold and functional score threshold from your functional data below: \n",
    "\n",
    "NOTE: If your threshold(s) are negative, put them in parentheses."
   ]
  },
  {
   "cell_type": "code",
   "execution_count": 2,
   "metadata": {},
   "outputs": [],
   "source": [
    "#loss_of_function_threshold = 0.9\n",
    "#functional_threshold = 0.1\n",
    "\n",
    "#must use parentheses for negative thresholds \n",
    "\n",
    "loss_of_function_threshold = (-1.328)\n",
    "functional_threshold = (-0.748)"
   ]
  },
  {
   "cell_type": "code",
   "execution_count": 3,
   "metadata": {},
   "outputs": [
    {
     "data": {
      "text/html": [
       "-1"
      ],
      "text/latex": [
       "-1"
      ],
      "text/markdown": [
       "-1"
      ],
      "text/plain": [
       "[1] -1"
      ]
     },
     "metadata": {},
     "output_type": "display_data"
    }
   ],
   "source": [
    "#check that the sign of your input is correct\n",
    "\n",
    "sign(loss_of_function_threshold )"
   ]
  },
  {
   "cell_type": "markdown",
   "metadata": {},
   "source": [
    "### define total case and control counts"
   ]
  },
  {
   "cell_type": "markdown",
   "metadata": {},
   "source": [
    "ACTION: Input the total number of cases and controls in your observational data below."
   ]
  },
  {
   "cell_type": "code",
   "execution_count": 7,
   "metadata": {},
   "outputs": [],
   "source": [
    "#control = 807162\n",
    "#case = 100000"
   ]
  },
  {
   "cell_type": "code",
   "execution_count": 5,
   "metadata": {},
   "outputs": [],
   "source": [
    "control = 43481\n",
    "case = 46306"
   ]
  },
  {
   "cell_type": "markdown",
   "metadata": {},
   "source": [
    "### define population frequency of disease and odds ratio thresholds"
   ]
  },
  {
   "cell_type": "markdown",
   "metadata": {},
   "source": [
    "ACTION: Input the values for:\n",
    "d0 and oddsrat below. \n",
    "\n",
    "\n",
    "d0 = population frequency of disease \n",
    "\n",
    "oddsrat = odds ratio threshold\n",
    "\n",
    "\n",
    "We will use them to calculate the probability using the equation:"
   ]
  },
  {
   "cell_type": "markdown",
   "metadata": {},
   "source": [
    "![image!](https://latex.codecogs.com/svg.latex?\\Large&space;d1=\\frac{\\Phi\\cdot\\Delta_{0}}{1+\\Delta_{0}\\left(\\Phi-1\\right)})\n",
    "\n",
    "or\n"
   ]
  },
  {
   "cell_type": "markdown",
   "metadata": {},
   "source": [
    "![image!](https://latex.codecogs.com/svg.latex?\\Large&space;d1=\\frac{ORd_{0}}{1+d_{0}\\left(OR-1\\right)})\n"
   ]
  },
  {
   "cell_type": "code",
   "execution_count": 8,
   "metadata": {},
   "outputs": [],
   "source": [
    "d0 = 0.12\n",
    "oddsrat = 5\n",
    "d1 = probfromoddsratio(d0,oddsrat)"
   ]
  },
  {
   "cell_type": "code",
   "execution_count": 9,
   "metadata": {},
   "outputs": [
    {
     "data": {
      "text/html": [
       "0.405405405405405"
      ],
      "text/latex": [
       "0.405405405405405"
      ],
      "text/markdown": [
       "0.405405405405405"
      ],
      "text/plain": [
       "[1] 0.4054054"
      ]
     },
     "metadata": {},
     "output_type": "display_data"
    }
   ],
   "source": [
    "d1"
   ]
  },
  {
   "cell_type": "markdown",
   "metadata": {},
   "source": [
    "### define location of file and import"
   ]
  },
  {
   "cell_type": "markdown",
   "metadata": {},
   "source": [
    "Input your file with the calibraton variants and functional data and observational data merged. Make sure you have already uploaded it to your workspace data folder."
   ]
  },
  {
   "cell_type": "markdown",
   "metadata": {},
   "source": [
    "Upload your own data to your workspace bucket by going to the workspace Data tab, selecting Files, and clicking the upload icon.\n",
    "\n",
    "To access these files from this Notebook, we use the gsutil command. For this command, you need to specify the Google bucket location (IRL starting with \"gs://...\"). If you are using your own workspace bucket instead of the public bucket, you can find the Google bucket id on the right side of the workspace dashboard.\n"
   ]
  },
  {
   "cell_type": "code",
   "execution_count": 9,
   "metadata": {},
   "outputs": [
    {
     "data": {
      "text/html": [
       "<style>\n",
       ".list-inline {list-style: none; margin:0; padding: 0}\n",
       ".list-inline>li {display: inline-block}\n",
       ".list-inline>li:not(:last-child)::after {content: \"\\00b7\"; padding: 0 .5ex}\n",
       "</style>\n",
       "<ol class=list-inline><li>'BRCA1_calibration_fxnl_case_control.tsv'</li><li>'BRCA1_case_control_data.tsv'</li><li>'BRCA1_fxn_vars_calibration_merged.csv'</li><li>'BRCA1_fxn_vars_calibration_merged.tsv'</li><li>'BRCA1_fxn_vars_calibration_short_weird.csv'</li><li>'BRCA1_variants_clinical_orig_numbering.csv'</li><li>'BRCA2_case_control_data.tsv'</li><li>'Bring Your Own Data Tutorial.ipynb'</li><li>'Clinvar_Jupyter_Notebook.ipynb.md'</li><li>'ClinVar_variants_scrape.ipynb'</li><li>'ClinVar_variants_with_diseases.ipynb'</li><li>'gnomad_Hail_variants_scrape.ipynb'</li><li>'gnomAD-with-Hail(pre-written example).ipynb'</li><li>'HGVS_variant_names.ipynb'</li><li>'OR_Calculations_MESSY_DRAFT_ALLISON.ipynb'</li><li>'OR_Calculations.ipynb'</li><li>'reformatting_variant_ids_notebook.ipynb'</li><li>'sorting_combined_variants.ipynb'</li></ol>\n"
      ],
      "text/latex": [
       "\\begin{enumerate*}\n",
       "\\item 'BRCA1\\_calibration\\_fxnl\\_case\\_control.tsv'\n",
       "\\item 'BRCA1\\_case\\_control\\_data.tsv'\n",
       "\\item 'BRCA1\\_fxn\\_vars\\_calibration\\_merged.csv'\n",
       "\\item 'BRCA1\\_fxn\\_vars\\_calibration\\_merged.tsv'\n",
       "\\item 'BRCA1\\_fxn\\_vars\\_calibration\\_short\\_weird.csv'\n",
       "\\item 'BRCA1\\_variants\\_clinical\\_orig\\_numbering.csv'\n",
       "\\item 'BRCA2\\_case\\_control\\_data.tsv'\n",
       "\\item 'Bring Your Own Data Tutorial.ipynb'\n",
       "\\item 'Clinvar\\_Jupyter\\_Notebook.ipynb.md'\n",
       "\\item 'ClinVar\\_variants\\_scrape.ipynb'\n",
       "\\item 'ClinVar\\_variants\\_with\\_diseases.ipynb'\n",
       "\\item 'gnomad\\_Hail\\_variants\\_scrape.ipynb'\n",
       "\\item 'gnomAD-with-Hail(pre-written example).ipynb'\n",
       "\\item 'HGVS\\_variant\\_names.ipynb'\n",
       "\\item 'OR\\_Calculations\\_MESSY\\_DRAFT\\_ALLISON.ipynb'\n",
       "\\item 'OR\\_Calculations.ipynb'\n",
       "\\item 'reformatting\\_variant\\_ids\\_notebook.ipynb'\n",
       "\\item 'sorting\\_combined\\_variants.ipynb'\n",
       "\\end{enumerate*}\n"
      ],
      "text/markdown": [
       "1. 'BRCA1_calibration_fxnl_case_control.tsv'\n",
       "2. 'BRCA1_case_control_data.tsv'\n",
       "3. 'BRCA1_fxn_vars_calibration_merged.csv'\n",
       "4. 'BRCA1_fxn_vars_calibration_merged.tsv'\n",
       "5. 'BRCA1_fxn_vars_calibration_short_weird.csv'\n",
       "6. 'BRCA1_variants_clinical_orig_numbering.csv'\n",
       "7. 'BRCA2_case_control_data.tsv'\n",
       "8. 'Bring Your Own Data Tutorial.ipynb'\n",
       "9. 'Clinvar_Jupyter_Notebook.ipynb.md'\n",
       "10. 'ClinVar_variants_scrape.ipynb'\n",
       "11. 'ClinVar_variants_with_diseases.ipynb'\n",
       "12. 'gnomad_Hail_variants_scrape.ipynb'\n",
       "13. 'gnomAD-with-Hail(pre-written example).ipynb'\n",
       "14. 'HGVS_variant_names.ipynb'\n",
       "15. 'OR_Calculations_MESSY_DRAFT_ALLISON.ipynb'\n",
       "16. 'OR_Calculations.ipynb'\n",
       "17. 'reformatting_variant_ids_notebook.ipynb'\n",
       "18. 'sorting_combined_variants.ipynb'\n",
       "\n",
       "\n"
      ],
      "text/plain": [
       " [1] \"BRCA1_calibration_fxnl_case_control.tsv\"    \n",
       " [2] \"BRCA1_case_control_data.tsv\"                \n",
       " [3] \"BRCA1_fxn_vars_calibration_merged.csv\"      \n",
       " [4] \"BRCA1_fxn_vars_calibration_merged.tsv\"      \n",
       " [5] \"BRCA1_fxn_vars_calibration_short_weird.csv\" \n",
       " [6] \"BRCA1_variants_clinical_orig_numbering.csv\" \n",
       " [7] \"BRCA2_case_control_data.tsv\"                \n",
       " [8] \"Bring Your Own Data Tutorial.ipynb\"         \n",
       " [9] \"Clinvar_Jupyter_Notebook.ipynb.md\"          \n",
       "[10] \"ClinVar_variants_scrape.ipynb\"              \n",
       "[11] \"ClinVar_variants_with_diseases.ipynb\"       \n",
       "[12] \"gnomad_Hail_variants_scrape.ipynb\"          \n",
       "[13] \"gnomAD-with-Hail(pre-written example).ipynb\"\n",
       "[14] \"HGVS_variant_names.ipynb\"                   \n",
       "[15] \"OR_Calculations_MESSY_DRAFT_ALLISON.ipynb\"  \n",
       "[16] \"OR_Calculations.ipynb\"                      \n",
       "[17] \"reformatting_variant_ids_notebook.ipynb\"    \n",
       "[18] \"sorting_combined_variants.ipynb\"            "
      ]
     },
     "metadata": {},
     "output_type": "display_data"
    }
   ],
   "source": [
    "# Access counts file in your workspace bucket\n",
    "# Note that you need to change to your workspace bucket path...\n",
    "\n",
    "input_data = system(paste0(\"gsutil cp gs://fc-1de68429-527a-4c60-a614-836b141b502f/BRCA1_calibration_fxnl_case_control.tsv .\"))\n",
    "\n",
    "# Confidence check - list all files in the notebook directory to verify that the file is there\n",
    "list.files()"
   ]
  },
  {
   "cell_type": "markdown",
   "metadata": {},
   "source": [
    "Now, input the string with your file name below"
   ]
  },
  {
   "cell_type": "code",
   "execution_count": 10,
   "metadata": {},
   "outputs": [],
   "source": [
    "#import data\n",
    "input_data =  read.table(file = 'BRCA1_calibration_fxnl_case_control.tsv', sep = '\\t',quote=\"\", header = TRUE, fill = TRUE, stringsAsFactors = FALSE)\n"
   ]
  },
  {
   "cell_type": "code",
   "execution_count": 11,
   "metadata": {},
   "outputs": [
    {
     "data": {
      "text/html": [
       "<table class=\"dataframe\">\n",
       "<caption>A data.frame: 6 × 191</caption>\n",
       "<thead>\n",
       "\t<tr><th></th><th scope=col>X</th><th scope=col>hgvs_nt</th><th scope=col>txpt_hgvsc_from_ID_clinvar</th><th scope=col>hgvs_pro_clinvar</th><th scope=col>hgvs_pro_gnomad</th><th scope=col>txpt_hgvsp_gnomad</th><th scope=col>variant_source</th><th scope=col>set_gnomad</th><th scope=col>n_alt_alleles_exomes_gnomad</th><th scope=col>n_alt_alleles_genomes_gnomad</th><th scope=col>⋯</th><th scope=col>Suggested_ACMG_AMP_evidencef</th><th scope=col>Logistic_Regression_PS4_criteriong</th><th scope=col>chr_y</th><th scope=col>pos_y</th><th scope=col>ref_y</th><th scope=col>alt_y</th><th scope=col>DISTANCE</th><th scope=col>Consequence</th><th scope=col>Review_Status</th><th scope=col>Class</th></tr>\n",
       "\t<tr><th></th><th scope=col>&lt;int&gt;</th><th scope=col>&lt;chr&gt;</th><th scope=col>&lt;chr&gt;</th><th scope=col>&lt;chr&gt;</th><th scope=col>&lt;chr&gt;</th><th scope=col>&lt;chr&gt;</th><th scope=col>&lt;chr&gt;</th><th scope=col>&lt;chr&gt;</th><th scope=col>&lt;dbl&gt;</th><th scope=col>&lt;dbl&gt;</th><th scope=col>⋯</th><th scope=col>&lt;chr&gt;</th><th scope=col>&lt;chr&gt;</th><th scope=col>&lt;dbl&gt;</th><th scope=col>&lt;dbl&gt;</th><th scope=col>&lt;chr&gt;</th><th scope=col>&lt;chr&gt;</th><th scope=col>&lt;lgl&gt;</th><th scope=col>&lt;chr&gt;</th><th scope=col>&lt;chr&gt;</th><th scope=col>&lt;chr&gt;</th></tr>\n",
       "</thead>\n",
       "<tbody>\n",
       "\t<tr><th scope=row>1</th><td>0</td><td>c.1A&gt;C</td><td>c.1A&gt;C (p.Met1Leu)</td><td>p.Met1Leu</td><td><span style=white-space:pre-wrap>       </span></td><td><span style=white-space:pre-wrap>                         </span></td><td><span style=white-space:pre-wrap>ClinVar only      </span></td><td><span style=white-space:pre-wrap>      </span></td><td>NA</td><td>NA</td><td>⋯</td><td><span style=white-space:pre-wrap>            </span></td><td></td><td>NA</td><td><span style=white-space:pre-wrap>      NA</span></td><td> </td><td> </td><td>NA</td><td><span style=white-space:pre-wrap>          </span></td><td><span style=white-space:pre-wrap>                                                    </span></td><td><span style=white-space:pre-wrap>          </span></td></tr>\n",
       "\t<tr><th scope=row>2</th><td>1</td><td>c.1A&gt;G</td><td>c.1A&gt;G (p.Met1Val)</td><td>p.Met1Val</td><td>p.Met1?</td><td>ENSP00000350283.3:p.Met1?</td><td>gnomAD and ClinVar</td><td>exomes</td><td> 2</td><td>NA</td><td>⋯</td><td>No evidence*</td><td></td><td>17</td><td>43124096</td><td>T</td><td>C</td><td>NA</td><td>start_lost</td><td>criteria_provided,_multiple_submitters,_no_conflicts</td><td>Pathogenic</td></tr>\n",
       "\t<tr><th scope=row>3</th><td>2</td><td>c.1A&gt;G</td><td>c.1A&gt;G (p.Met1Val)</td><td>p.Met1Val</td><td>p.Met1?</td><td>ENSP00000350283.3:p.Met1?</td><td>gnomAD and ClinVar</td><td>exomes</td><td> 2</td><td>NA</td><td>⋯</td><td>No evidence*</td><td></td><td>17</td><td>43124096</td><td>T</td><td>C</td><td>NA</td><td>start_lost</td><td>criteria_provided,_multiple_submitters,_no_conflicts</td><td>Pathogenic</td></tr>\n",
       "\t<tr><th scope=row>4</th><td>3</td><td>c.1A&gt;G</td><td>c.1A&gt;G (p.Met1Val)</td><td>p.Met1Val</td><td>p.Met1?</td><td>ENSP00000350283.3:p.Met1?</td><td>gnomAD and ClinVar</td><td>exomes</td><td> 2</td><td>NA</td><td>⋯</td><td>No evidence*</td><td></td><td>17</td><td>43124096</td><td>T</td><td>C</td><td>NA</td><td>start_lost</td><td>criteria_provided,_multiple_submitters,_no_conflicts</td><td>Pathogenic</td></tr>\n",
       "\t<tr><th scope=row>5</th><td>4</td><td>c.1A&gt;G</td><td>c.1A&gt;G (p.Met1Val)</td><td>p.Met1Val</td><td>p.Met1?</td><td>ENSP00000350283.3:p.Met1?</td><td>gnomAD and ClinVar</td><td>exomes</td><td> 2</td><td>NA</td><td>⋯</td><td>No evidence*</td><td></td><td>17</td><td>43124096</td><td>T</td><td>C</td><td>NA</td><td>start_lost</td><td>criteria_provided,_multiple_submitters,_no_conflicts</td><td>Pathogenic</td></tr>\n",
       "\t<tr><th scope=row>6</th><td>5</td><td>c.1A&gt;G</td><td>c.1A&gt;G (p.Met1Val)</td><td>p.Met1Val</td><td>p.Met1?</td><td>ENSP00000350283.3:p.Met1?</td><td>gnomAD and ClinVar</td><td>exomes</td><td> 2</td><td>NA</td><td>⋯</td><td>No evidence*</td><td></td><td>17</td><td>43124096</td><td>T</td><td>C</td><td>NA</td><td>start_lost</td><td>criteria_provided,_multiple_submitters,_no_conflicts</td><td>Pathogenic</td></tr>\n",
       "</tbody>\n",
       "</table>\n"
      ],
      "text/latex": [
       "A data.frame: 6 × 191\n",
       "\\begin{tabular}{r|lllllllllllllllllllll}\n",
       "  & X & hgvs\\_nt & txpt\\_hgvsc\\_from\\_ID\\_clinvar & hgvs\\_pro\\_clinvar & hgvs\\_pro\\_gnomad & txpt\\_hgvsp\\_gnomad & variant\\_source & set\\_gnomad & n\\_alt\\_alleles\\_exomes\\_gnomad & n\\_alt\\_alleles\\_genomes\\_gnomad & ⋯ & Suggested\\_ACMG\\_AMP\\_evidencef & Logistic\\_Regression\\_PS4\\_criteriong & chr\\_y & pos\\_y & ref\\_y & alt\\_y & DISTANCE & Consequence & Review\\_Status & Class\\\\\n",
       "  & <int> & <chr> & <chr> & <chr> & <chr> & <chr> & <chr> & <chr> & <dbl> & <dbl> & ⋯ & <chr> & <chr> & <dbl> & <dbl> & <chr> & <chr> & <lgl> & <chr> & <chr> & <chr>\\\\\n",
       "\\hline\n",
       "\t1 & 0 & c.1A>C & c.1A>C (p.Met1Leu) & p.Met1Leu &         &                           & ClinVar only       &        & NA & NA & ⋯ &              &  & NA &       NA &   &   & NA &            &                                                      &           \\\\\n",
       "\t2 & 1 & c.1A>G & c.1A>G (p.Met1Val) & p.Met1Val & p.Met1? & ENSP00000350283.3:p.Met1? & gnomAD and ClinVar & exomes &  2 & NA & ⋯ & No evidence* &  & 17 & 43124096 & T & C & NA & start\\_lost & criteria\\_provided,\\_multiple\\_submitters,\\_no\\_conflicts & Pathogenic\\\\\n",
       "\t3 & 2 & c.1A>G & c.1A>G (p.Met1Val) & p.Met1Val & p.Met1? & ENSP00000350283.3:p.Met1? & gnomAD and ClinVar & exomes &  2 & NA & ⋯ & No evidence* &  & 17 & 43124096 & T & C & NA & start\\_lost & criteria\\_provided,\\_multiple\\_submitters,\\_no\\_conflicts & Pathogenic\\\\\n",
       "\t4 & 3 & c.1A>G & c.1A>G (p.Met1Val) & p.Met1Val & p.Met1? & ENSP00000350283.3:p.Met1? & gnomAD and ClinVar & exomes &  2 & NA & ⋯ & No evidence* &  & 17 & 43124096 & T & C & NA & start\\_lost & criteria\\_provided,\\_multiple\\_submitters,\\_no\\_conflicts & Pathogenic\\\\\n",
       "\t5 & 4 & c.1A>G & c.1A>G (p.Met1Val) & p.Met1Val & p.Met1? & ENSP00000350283.3:p.Met1? & gnomAD and ClinVar & exomes &  2 & NA & ⋯ & No evidence* &  & 17 & 43124096 & T & C & NA & start\\_lost & criteria\\_provided,\\_multiple\\_submitters,\\_no\\_conflicts & Pathogenic\\\\\n",
       "\t6 & 5 & c.1A>G & c.1A>G (p.Met1Val) & p.Met1Val & p.Met1? & ENSP00000350283.3:p.Met1? & gnomAD and ClinVar & exomes &  2 & NA & ⋯ & No evidence* &  & 17 & 43124096 & T & C & NA & start\\_lost & criteria\\_provided,\\_multiple\\_submitters,\\_no\\_conflicts & Pathogenic\\\\\n",
       "\\end{tabular}\n"
      ],
      "text/markdown": [
       "\n",
       "A data.frame: 6 × 191\n",
       "\n",
       "| <!--/--> | X &lt;int&gt; | hgvs_nt &lt;chr&gt; | txpt_hgvsc_from_ID_clinvar &lt;chr&gt; | hgvs_pro_clinvar &lt;chr&gt; | hgvs_pro_gnomad &lt;chr&gt; | txpt_hgvsp_gnomad &lt;chr&gt; | variant_source &lt;chr&gt; | set_gnomad &lt;chr&gt; | n_alt_alleles_exomes_gnomad &lt;dbl&gt; | n_alt_alleles_genomes_gnomad &lt;dbl&gt; | ⋯ ⋯ | Suggested_ACMG_AMP_evidencef &lt;chr&gt; | Logistic_Regression_PS4_criteriong &lt;chr&gt; | chr_y &lt;dbl&gt; | pos_y &lt;dbl&gt; | ref_y &lt;chr&gt; | alt_y &lt;chr&gt; | DISTANCE &lt;lgl&gt; | Consequence &lt;chr&gt; | Review_Status &lt;chr&gt; | Class &lt;chr&gt; |\n",
       "|---|---|---|---|---|---|---|---|---|---|---|---|---|---|---|---|---|---|---|---|---|---|\n",
       "| 1 | 0 | c.1A&gt;C | c.1A&gt;C (p.Met1Leu) | p.Met1Leu | <!----> | <!----> | ClinVar only       | <!----> | NA | NA | ⋯ | <!----> | <!----> | NA |       NA | <!----> | <!----> | NA | <!----> | <!----> | <!----> |\n",
       "| 2 | 1 | c.1A&gt;G | c.1A&gt;G (p.Met1Val) | p.Met1Val | p.Met1? | ENSP00000350283.3:p.Met1? | gnomAD and ClinVar | exomes |  2 | NA | ⋯ | No evidence* | <!----> | 17 | 43124096 | T | C | NA | start_lost | criteria_provided,_multiple_submitters,_no_conflicts | Pathogenic |\n",
       "| 3 | 2 | c.1A&gt;G | c.1A&gt;G (p.Met1Val) | p.Met1Val | p.Met1? | ENSP00000350283.3:p.Met1? | gnomAD and ClinVar | exomes |  2 | NA | ⋯ | No evidence* | <!----> | 17 | 43124096 | T | C | NA | start_lost | criteria_provided,_multiple_submitters,_no_conflicts | Pathogenic |\n",
       "| 4 | 3 | c.1A&gt;G | c.1A&gt;G (p.Met1Val) | p.Met1Val | p.Met1? | ENSP00000350283.3:p.Met1? | gnomAD and ClinVar | exomes |  2 | NA | ⋯ | No evidence* | <!----> | 17 | 43124096 | T | C | NA | start_lost | criteria_provided,_multiple_submitters,_no_conflicts | Pathogenic |\n",
       "| 5 | 4 | c.1A&gt;G | c.1A&gt;G (p.Met1Val) | p.Met1Val | p.Met1? | ENSP00000350283.3:p.Met1? | gnomAD and ClinVar | exomes |  2 | NA | ⋯ | No evidence* | <!----> | 17 | 43124096 | T | C | NA | start_lost | criteria_provided,_multiple_submitters,_no_conflicts | Pathogenic |\n",
       "| 6 | 5 | c.1A&gt;G | c.1A&gt;G (p.Met1Val) | p.Met1Val | p.Met1? | ENSP00000350283.3:p.Met1? | gnomAD and ClinVar | exomes |  2 | NA | ⋯ | No evidence* | <!----> | 17 | 43124096 | T | C | NA | start_lost | criteria_provided,_multiple_submitters,_no_conflicts | Pathogenic |\n",
       "\n"
      ],
      "text/plain": [
       "  X hgvs_nt txpt_hgvsc_from_ID_clinvar hgvs_pro_clinvar hgvs_pro_gnomad\n",
       "1 0 c.1A>C  c.1A>C (p.Met1Leu)         p.Met1Leu                       \n",
       "2 1 c.1A>G  c.1A>G (p.Met1Val)         p.Met1Val        p.Met1?        \n",
       "3 2 c.1A>G  c.1A>G (p.Met1Val)         p.Met1Val        p.Met1?        \n",
       "4 3 c.1A>G  c.1A>G (p.Met1Val)         p.Met1Val        p.Met1?        \n",
       "5 4 c.1A>G  c.1A>G (p.Met1Val)         p.Met1Val        p.Met1?        \n",
       "6 5 c.1A>G  c.1A>G (p.Met1Val)         p.Met1Val        p.Met1?        \n",
       "  txpt_hgvsp_gnomad         variant_source     set_gnomad\n",
       "1                           ClinVar only                 \n",
       "2 ENSP00000350283.3:p.Met1? gnomAD and ClinVar exomes    \n",
       "3 ENSP00000350283.3:p.Met1? gnomAD and ClinVar exomes    \n",
       "4 ENSP00000350283.3:p.Met1? gnomAD and ClinVar exomes    \n",
       "5 ENSP00000350283.3:p.Met1? gnomAD and ClinVar exomes    \n",
       "6 ENSP00000350283.3:p.Met1? gnomAD and ClinVar exomes    \n",
       "  n_alt_alleles_exomes_gnomad n_alt_alleles_genomes_gnomad ⋯\n",
       "1 NA                          NA                           ⋯\n",
       "2  2                          NA                           ⋯\n",
       "3  2                          NA                           ⋯\n",
       "4  2                          NA                           ⋯\n",
       "5  2                          NA                           ⋯\n",
       "6  2                          NA                           ⋯\n",
       "  Suggested_ACMG_AMP_evidencef Logistic_Regression_PS4_criteriong chr_y\n",
       "1                                                                 NA   \n",
       "2 No evidence*                                                    17   \n",
       "3 No evidence*                                                    17   \n",
       "4 No evidence*                                                    17   \n",
       "5 No evidence*                                                    17   \n",
       "6 No evidence*                                                    17   \n",
       "  pos_y    ref_y alt_y DISTANCE Consequence\n",
       "1       NA             NA                  \n",
       "2 43124096 T     C     NA       start_lost \n",
       "3 43124096 T     C     NA       start_lost \n",
       "4 43124096 T     C     NA       start_lost \n",
       "5 43124096 T     C     NA       start_lost \n",
       "6 43124096 T     C     NA       start_lost \n",
       "  Review_Status                                        Class     \n",
       "1                                                                \n",
       "2 criteria_provided,_multiple_submitters,_no_conflicts Pathogenic\n",
       "3 criteria_provided,_multiple_submitters,_no_conflicts Pathogenic\n",
       "4 criteria_provided,_multiple_submitters,_no_conflicts Pathogenic\n",
       "5 criteria_provided,_multiple_submitters,_no_conflicts Pathogenic\n",
       "6 criteria_provided,_multiple_submitters,_no_conflicts Pathogenic"
      ]
     },
     "metadata": {},
     "output_type": "display_data"
    }
   ],
   "source": [
    "head(input_data)\n"
   ]
  },
  {
   "cell_type": "markdown",
   "metadata": {},
   "source": [
    "## Check functional assay classification column"
   ]
  },
  {
   "cell_type": "markdown",
   "metadata": {},
   "source": [
    "Here we  create a column, called func_class, that specifies the functional assay classification of a variant. It must be in *number* format, as follows:\n",
    "\n",
    "0 = non-carrier\n",
    "\n",
    "1 = functional\n",
    "\n",
    "2 = indeterminate\n",
    "\n",
    "3 = loss of function\n",
    "\n",
    "We use the \"loss_of_function_threshold\" and \"functional_threshold\" variables we specified earlier in the notebook;"
   ]
  },
  {
   "cell_type": "code",
   "execution_count": 12,
   "metadata": {},
   "outputs": [],
   "source": [
    "#original code\n",
    "#input_data$func_class = ifelse(input_data$score >= loss_of_function_threshold, 3,\n",
    "#                              ifelse(input_data$score <= functional_threshold, 1,\n",
    "#                                     2))"
   ]
  },
  {
   "cell_type": "markdown",
   "metadata": {},
   "source": [
    "Here are example function score ranges for classification. These come from the SGE functional assay for BRCA variants, but yours are likely different. \n",
    "\n",
    "'functional', score > -0.748; \n",
    "\n",
    "'intermediate', -0.748 > score > -1.328; \n",
    "\n",
    "'non-functional', score < -1.328. \n"
   ]
  },
  {
   "cell_type": "markdown",
   "metadata": {},
   "source": [
    "You may need to reverse the arrows in the comparison test in the following code if your signs or thresholds are different. "
   ]
  },
  {
   "cell_type": "code",
   "execution_count": 13,
   "metadata": {},
   "outputs": [],
   "source": [
    "#adapted and reversed the arrows\n",
    "\n",
    "#loss_of_function_threshold = -1.328\n",
    "#functional_threshold = -0.748\n",
    "input_data$func_class = ifelse(input_data$score <= loss_of_function_threshold, 3,\n",
    "                              ifelse(input_data$score >= functional_threshold, 1,\n",
    "                                     2))"
   ]
  },
  {
   "cell_type": "markdown",
   "metadata": {},
   "source": [
    "Rename your control and case observations columns into \"case_obs\" and \"control_obs\""
   ]
  },
  {
   "cell_type": "code",
   "execution_count": 14,
   "metadata": {},
   "outputs": [
    {
     "name": "stderr",
     "output_type": "stream",
     "text": [
      "Warning message:\n",
      "“\u001b[1m\u001b[22mExpected 2 pieces. Missing pieces filled with `NA` in 34266 rows [1, 24, 25,\n",
      "26, 27, 28, 29, 30, 31, 32, 38, 39, 40, 41, 42, 43, 44, 45, 46, 56, ...].”\n",
      "Warning message:\n",
      "“\u001b[1m\u001b[22mExpected 2 pieces. Missing pieces filled with `NA` in 34266 rows [1, 24, 25,\n",
      "26, 27, 28, 29, 30, 31, 32, 38, 39, 40, 41, 42, 43, 44, 45, 46, 56, ...].”\n",
      "Warning message:\n",
      "“\u001b[1m\u001b[22mExpected 2 pieces. Missing pieces filled with `NA` in 34266 rows [1, 24, 25,\n",
      "26, 27, 28, 29, 30, 31, 32, 38, 39, 40, 41, 42, 43, 44, 45, 46, 56, ...].”\n",
      "Warning message:\n",
      "“\u001b[1m\u001b[22mExpected 2 pieces. Missing pieces filled with `NA` in 34266 rows [1, 24, 25,\n",
      "26, 27, 28, 29, 30, 31, 32, 38, 39, 40, 41, 42, 43, 44, 45, 46, 56, ...].”\n"
     ]
    }
   ],
   "source": [
    "#reformatting the case control data into simple numbers\n",
    "input_data <- input_data %>%\n",
    "    separate(BRIDGES_Case_Carriers_N__pct, into=c(\"case_fraction\", \"case_percent\"), sep=\" \", convert=TRUE) %>%\n",
    "    separate(case_fraction, into=c(\"case_obs\", \"BRIDGES_total_case\"), sep=\"/\", convert=TRUE) %>%\n",
    "    separate(BRIDGES_Control_Carriers_N__pct, into=c(\"control_fraction\", \"control_percent\"), sep=\" \", convert=TRUE) %>%\n",
    "    separate(control_fraction, into=c(\"control_obs\", \"BRIDGES_total_control\"), sep=\"/\", convert=TRUE)\n",
    "\n"
   ]
  },
  {
   "cell_type": "markdown",
   "metadata": {},
   "source": [
    "## do computations"
   ]
  },
  {
   "cell_type": "markdown",
   "metadata": {},
   "source": [
    "### sum gnomAD observations and optionally add additional clinvar functional data"
   ]
  },
  {
   "cell_type": "markdown",
   "metadata": {},
   "source": [
    "We may not use the gnomad control data but here we extract the sum.\n",
    "\n",
    "Gnomad columns with the allele count always end with \".AC_gnomad\". "
   ]
  },
  {
   "cell_type": "code",
   "execution_count": 15,
   "metadata": {},
   "outputs": [],
   "source": [
    "test_data_AC <- input_data %>% select(ends_with(\".AC_gnomad\"))\n",
    "\n",
    "input_data$gnomad_control_obs = rowSums(input_data, na.rm =T)\n",
    "\n"
   ]
  },
  {
   "cell_type": "markdown",
   "metadata": {},
   "source": [
    "### keep unique instances of variants"
   ]
  },
  {
   "cell_type": "code",
   "execution_count": 16,
   "metadata": {},
   "outputs": [],
   "source": [
    "input_data_unique = input_data %>%\n",
    "  distinct(VRS_ID, .keep_all = T)"
   ]
  },
  {
   "cell_type": "code",
   "execution_count": 17,
   "metadata": {},
   "outputs": [
    {
     "data": {
      "text/html": [
       "<table class=\"dataframe\">\n",
       "<caption>A data.frame: 15517 × 197</caption>\n",
       "<thead>\n",
       "\t<tr><th scope=col>X</th><th scope=col>hgvs_nt</th><th scope=col>txpt_hgvsc_from_ID_clinvar</th><th scope=col>hgvs_pro_clinvar</th><th scope=col>hgvs_pro_gnomad</th><th scope=col>txpt_hgvsp_gnomad</th><th scope=col>variant_source</th><th scope=col>set_gnomad</th><th scope=col>n_alt_alleles_exomes_gnomad</th><th scope=col>n_alt_alleles_genomes_gnomad</th><th scope=col>⋯</th><th scope=col>chr_y</th><th scope=col>pos_y</th><th scope=col>ref_y</th><th scope=col>alt_y</th><th scope=col>DISTANCE</th><th scope=col>Consequence</th><th scope=col>Review_Status</th><th scope=col>Class</th><th scope=col>func_class</th><th scope=col>gnomad_control_obs</th></tr>\n",
       "\t<tr><th scope=col>&lt;int&gt;</th><th scope=col>&lt;chr&gt;</th><th scope=col>&lt;chr&gt;</th><th scope=col>&lt;chr&gt;</th><th scope=col>&lt;chr&gt;</th><th scope=col>&lt;chr&gt;</th><th scope=col>&lt;chr&gt;</th><th scope=col>&lt;chr&gt;</th><th scope=col>&lt;dbl&gt;</th><th scope=col>&lt;dbl&gt;</th><th scope=col>⋯</th><th scope=col>&lt;dbl&gt;</th><th scope=col>&lt;dbl&gt;</th><th scope=col>&lt;chr&gt;</th><th scope=col>&lt;chr&gt;</th><th scope=col>&lt;lgl&gt;</th><th scope=col>&lt;chr&gt;</th><th scope=col>&lt;chr&gt;</th><th scope=col>&lt;chr&gt;</th><th scope=col>&lt;dbl&gt;</th><th scope=col>&lt;dbl&gt;</th></tr>\n",
       "</thead>\n",
       "<tbody>\n",
       "\t<tr><td> 0</td><td>c.1A&gt;C </td><td>c.1A&gt;C (p.Met1Leu) </td><td>p.Met1Leu</td><td><span style=white-space:pre-wrap>         </span></td><td><span style=white-space:pre-wrap>                           </span></td><td><span style=white-space:pre-wrap>ClinVar only      </span></td><td><span style=white-space:pre-wrap>      </span></td><td>NA</td><td>NA</td><td>⋯</td><td>NA</td><td><span style=white-space:pre-wrap>      NA</span></td><td> </td><td> </td><td>NA</td><td><span style=white-space:pre-wrap>                </span></td><td><span style=white-space:pre-wrap>                                                    </span></td><td><span style=white-space:pre-wrap>                                            </span></td><td>NA</td><td>0</td></tr>\n",
       "\t<tr><td> 1</td><td>c.1A&gt;G </td><td>c.1A&gt;G (p.Met1Val) </td><td>p.Met1Val</td><td><span style=white-space:pre-wrap>p.Met1?  </span></td><td><span style=white-space:pre-wrap>ENSP00000350283.3:p.Met1?  </span></td><td>gnomAD and ClinVar</td><td>exomes</td><td> 2</td><td>NA</td><td>⋯</td><td>17</td><td>43124096</td><td>T</td><td>C</td><td>NA</td><td><span style=white-space:pre-wrap>start_lost      </span></td><td>criteria_provided,_multiple_submitters,_no_conflicts</td><td><span style=white-space:pre-wrap>Pathogenic                                  </span></td><td> 3</td><td>3</td></tr>\n",
       "\t<tr><td>23</td><td>c.1A&gt;T </td><td>c.1A&gt;T (p.Met1Leu) </td><td>p.Met1Leu</td><td><span style=white-space:pre-wrap>         </span></td><td><span style=white-space:pre-wrap>                           </span></td><td><span style=white-space:pre-wrap>ClinVar only      </span></td><td><span style=white-space:pre-wrap>      </span></td><td>NA</td><td>NA</td><td>⋯</td><td>NA</td><td><span style=white-space:pre-wrap>      NA</span></td><td> </td><td> </td><td>NA</td><td><span style=white-space:pre-wrap>                </span></td><td><span style=white-space:pre-wrap>                                                    </span></td><td><span style=white-space:pre-wrap>                                            </span></td><td> 3</td><td>0</td></tr>\n",
       "\t<tr><td>24</td><td>c.2T&gt;A </td><td>c.2T&gt;A (p.Met1Lys) </td><td>p.Met1Lys</td><td><span style=white-space:pre-wrap>         </span></td><td><span style=white-space:pre-wrap>                           </span></td><td><span style=white-space:pre-wrap>ClinVar only      </span></td><td><span style=white-space:pre-wrap>      </span></td><td>NA</td><td>NA</td><td>⋯</td><td>NA</td><td><span style=white-space:pre-wrap>      NA</span></td><td> </td><td> </td><td>NA</td><td><span style=white-space:pre-wrap>                </span></td><td><span style=white-space:pre-wrap>                                                    </span></td><td><span style=white-space:pre-wrap>                                            </span></td><td> 3</td><td>0</td></tr>\n",
       "\t<tr><td>26</td><td>c.2T&gt;C </td><td>c.2T&gt;C (p.Met1Thr) </td><td>p.Met1Thr</td><td><span style=white-space:pre-wrap>         </span></td><td><span style=white-space:pre-wrap>                           </span></td><td><span style=white-space:pre-wrap>ClinVar only      </span></td><td><span style=white-space:pre-wrap>      </span></td><td>NA</td><td>NA</td><td>⋯</td><td>NA</td><td><span style=white-space:pre-wrap>      NA</span></td><td> </td><td> </td><td>NA</td><td><span style=white-space:pre-wrap>                </span></td><td><span style=white-space:pre-wrap>                                                    </span></td><td><span style=white-space:pre-wrap>                                            </span></td><td> 3</td><td>0</td></tr>\n",
       "\t<tr><td>32</td><td>c.2T&gt;G </td><td>c.2T&gt;G (p.Met1Arg) </td><td>p.Met1Arg</td><td><span style=white-space:pre-wrap>         </span></td><td><span style=white-space:pre-wrap>                           </span></td><td><span style=white-space:pre-wrap>ClinVar only      </span></td><td><span style=white-space:pre-wrap>      </span></td><td>NA</td><td>NA</td><td>⋯</td><td>17</td><td>43124095</td><td>A</td><td>C</td><td>NA</td><td><span style=white-space:pre-wrap>start_lost      </span></td><td>criteria_provided,_multiple_submitters,_no_conflicts</td><td><span style=white-space:pre-wrap>Pathogenic                                  </span></td><td> 3</td><td>0</td></tr>\n",
       "\t<tr><td>37</td><td>c.3G&gt;A </td><td>c.3G&gt;A (p.Met1Ile) </td><td>p.Met1Ile</td><td><span style=white-space:pre-wrap>         </span></td><td><span style=white-space:pre-wrap>                           </span></td><td><span style=white-space:pre-wrap>ClinVar only      </span></td><td><span style=white-space:pre-wrap>      </span></td><td>NA</td><td>NA</td><td>⋯</td><td>NA</td><td><span style=white-space:pre-wrap>      NA</span></td><td> </td><td> </td><td>NA</td><td><span style=white-space:pre-wrap>                </span></td><td><span style=white-space:pre-wrap>                                                    </span></td><td><span style=white-space:pre-wrap>                                            </span></td><td>NA</td><td>0</td></tr>\n",
       "\t<tr><td>44</td><td>c.3G&gt;C </td><td>c.3G&gt;C (p.Met1Ile) </td><td>p.Met1Ile</td><td><span style=white-space:pre-wrap>         </span></td><td><span style=white-space:pre-wrap>                           </span></td><td><span style=white-space:pre-wrap>ClinVar only      </span></td><td><span style=white-space:pre-wrap>      </span></td><td>NA</td><td>NA</td><td>⋯</td><td>NA</td><td><span style=white-space:pre-wrap>      NA</span></td><td> </td><td> </td><td>NA</td><td><span style=white-space:pre-wrap>                </span></td><td><span style=white-space:pre-wrap>                                                    </span></td><td><span style=white-space:pre-wrap>                                            </span></td><td>NA</td><td>0</td></tr>\n",
       "\t<tr><td>46</td><td>c.3G&gt;T </td><td>c.3G&gt;T (p.Met1Ile) </td><td>p.Met1Ile</td><td><span style=white-space:pre-wrap>p.Met1?  </span></td><td><span style=white-space:pre-wrap>ENSP00000350283.3:p.Met1?  </span></td><td>gnomAD and ClinVar</td><td>exomes</td><td> 2</td><td>NA</td><td>⋯</td><td>17</td><td>43124094</td><td>C</td><td>A</td><td>NA</td><td><span style=white-space:pre-wrap>start_lost      </span></td><td><span style=white-space:pre-wrap>reviewed_by_expert_panel                            </span></td><td><span style=white-space:pre-wrap>Pathogenic                                  </span></td><td> 3</td><td>1</td></tr>\n",
       "\t<tr><td>55</td><td>c.4G&gt;A </td><td>c.4G&gt;A (p.Asp2Asn) </td><td>p.Asp2Asn</td><td>p.Asp2Asn</td><td>ENSP00000350283.3:p.Asp2Asn</td><td>gnomAD and ClinVar</td><td>exomes</td><td> 2</td><td>NA</td><td>⋯</td><td>NA</td><td><span style=white-space:pre-wrap>      NA</span></td><td> </td><td> </td><td>NA</td><td><span style=white-space:pre-wrap>                </span></td><td><span style=white-space:pre-wrap>                                                    </span></td><td><span style=white-space:pre-wrap>                                            </span></td><td> 1</td><td>3</td></tr>\n",
       "\t<tr><td>56</td><td>c.4G&gt;C </td><td>c.4G&gt;C (p.Asp2His) </td><td>p.Asp2His</td><td><span style=white-space:pre-wrap>         </span></td><td><span style=white-space:pre-wrap>                           </span></td><td><span style=white-space:pre-wrap>ClinVar only      </span></td><td><span style=white-space:pre-wrap>      </span></td><td>NA</td><td>NA</td><td>⋯</td><td>NA</td><td><span style=white-space:pre-wrap>      NA</span></td><td> </td><td> </td><td>NA</td><td><span style=white-space:pre-wrap>                </span></td><td><span style=white-space:pre-wrap>                                                    </span></td><td><span style=white-space:pre-wrap>                                            </span></td><td> 3</td><td>0</td></tr>\n",
       "\t<tr><td>57</td><td>c.4G&gt;T </td><td>c.4G&gt;T (p.Asp2Tyr) </td><td>p.Asp2Tyr</td><td><span style=white-space:pre-wrap>         </span></td><td><span style=white-space:pre-wrap>                           </span></td><td><span style=white-space:pre-wrap>ClinVar only      </span></td><td><span style=white-space:pre-wrap>      </span></td><td>NA</td><td>NA</td><td>⋯</td><td>NA</td><td><span style=white-space:pre-wrap>      NA</span></td><td> </td><td> </td><td>NA</td><td><span style=white-space:pre-wrap>                </span></td><td><span style=white-space:pre-wrap>                                                    </span></td><td><span style=white-space:pre-wrap>                                            </span></td><td> 1</td><td>0</td></tr>\n",
       "\t<tr><td>58</td><td>c.5A&gt;C </td><td>c.5A&gt;C (p.Asp2Ala) </td><td>p.Asp2Ala</td><td><span style=white-space:pre-wrap>         </span></td><td><span style=white-space:pre-wrap>                           </span></td><td><span style=white-space:pre-wrap>ClinVar only      </span></td><td><span style=white-space:pre-wrap>      </span></td><td>NA</td><td>NA</td><td>⋯</td><td>NA</td><td><span style=white-space:pre-wrap>      NA</span></td><td> </td><td> </td><td>NA</td><td><span style=white-space:pre-wrap>                </span></td><td><span style=white-space:pre-wrap>                                                    </span></td><td><span style=white-space:pre-wrap>                                            </span></td><td> 1</td><td>0</td></tr>\n",
       "\t<tr><td>59</td><td>c.5A&gt;G </td><td>c.5A&gt;G (p.Asp2Gly) </td><td>p.Asp2Gly</td><td><span style=white-space:pre-wrap>         </span></td><td><span style=white-space:pre-wrap>                           </span></td><td><span style=white-space:pre-wrap>ClinVar only      </span></td><td><span style=white-space:pre-wrap>      </span></td><td>NA</td><td>NA</td><td>⋯</td><td>NA</td><td><span style=white-space:pre-wrap>      NA</span></td><td> </td><td> </td><td>NA</td><td><span style=white-space:pre-wrap>                </span></td><td><span style=white-space:pre-wrap>                                                    </span></td><td><span style=white-space:pre-wrap>                                            </span></td><td> 2</td><td>0</td></tr>\n",
       "\t<tr><td>61</td><td>c.5A&gt;T </td><td>c.5A&gt;T (p.Asp2Val) </td><td>p.Asp2Val</td><td><span style=white-space:pre-wrap>         </span></td><td><span style=white-space:pre-wrap>                           </span></td><td><span style=white-space:pre-wrap>ClinVar only      </span></td><td><span style=white-space:pre-wrap>      </span></td><td>NA</td><td>NA</td><td>⋯</td><td>NA</td><td><span style=white-space:pre-wrap>      NA</span></td><td> </td><td> </td><td>NA</td><td><span style=white-space:pre-wrap>                </span></td><td><span style=white-space:pre-wrap>                                                    </span></td><td><span style=white-space:pre-wrap>                                            </span></td><td> 2</td><td>0</td></tr>\n",
       "\t<tr><td>62</td><td>c.6T&gt;A </td><td>c.6T&gt;A (p.Asp2Glu) </td><td>p.Asp2Glu</td><td><span style=white-space:pre-wrap>         </span></td><td><span style=white-space:pre-wrap>                           </span></td><td><span style=white-space:pre-wrap>ClinVar only      </span></td><td><span style=white-space:pre-wrap>      </span></td><td>NA</td><td>NA</td><td>⋯</td><td>NA</td><td><span style=white-space:pre-wrap>      NA</span></td><td> </td><td> </td><td>NA</td><td><span style=white-space:pre-wrap>                </span></td><td><span style=white-space:pre-wrap>                                                    </span></td><td><span style=white-space:pre-wrap>                                            </span></td><td>NA</td><td>0</td></tr>\n",
       "\t<tr><td>63</td><td>c.6T&gt;C </td><td><span style=white-space:pre-wrap>c.6T&gt;C (p.Asp2=)   </span></td><td><span style=white-space:pre-wrap>p.Asp2=  </span></td><td><span style=white-space:pre-wrap>p.Asp2=  </span></td><td><span style=white-space:pre-wrap>ENSP00000350283.3:p.Asp2=  </span></td><td>gnomAD and ClinVar</td><td><span style=white-space:pre-wrap>both  </span></td><td> 1</td><td> 1</td><td>⋯</td><td>NA</td><td><span style=white-space:pre-wrap>      NA</span></td><td> </td><td> </td><td>NA</td><td><span style=white-space:pre-wrap>                </span></td><td><span style=white-space:pre-wrap>                                                    </span></td><td><span style=white-space:pre-wrap>                                            </span></td><td>NA</td><td>3</td></tr>\n",
       "\t<tr><td>70</td><td>c.6T&gt;G </td><td>c.6T&gt;G (p.Asp2Glu) </td><td>p.Asp2Glu</td><td><span style=white-space:pre-wrap>         </span></td><td><span style=white-space:pre-wrap>                           </span></td><td><span style=white-space:pre-wrap>ClinVar only      </span></td><td><span style=white-space:pre-wrap>      </span></td><td>NA</td><td>NA</td><td>⋯</td><td>NA</td><td><span style=white-space:pre-wrap>      NA</span></td><td> </td><td> </td><td>NA</td><td><span style=white-space:pre-wrap>                </span></td><td><span style=white-space:pre-wrap>                                                    </span></td><td><span style=white-space:pre-wrap>                                            </span></td><td> 1</td><td>0</td></tr>\n",
       "\t<tr><td>71</td><td>c.7T&gt;A </td><td>c.7T&gt;A (p.Leu3Ile) </td><td>p.Leu3Ile</td><td><span style=white-space:pre-wrap>         </span></td><td><span style=white-space:pre-wrap>                           </span></td><td><span style=white-space:pre-wrap>ClinVar only      </span></td><td><span style=white-space:pre-wrap>      </span></td><td>NA</td><td>NA</td><td>⋯</td><td>NA</td><td><span style=white-space:pre-wrap>      NA</span></td><td> </td><td> </td><td>NA</td><td><span style=white-space:pre-wrap>                </span></td><td><span style=white-space:pre-wrap>                                                    </span></td><td><span style=white-space:pre-wrap>                                            </span></td><td> 1</td><td>0</td></tr>\n",
       "\t<tr><td>72</td><td>c.7T&gt;C </td><td><span style=white-space:pre-wrap>c.7T&gt;C (p.Leu3=)   </span></td><td><span style=white-space:pre-wrap>p.Leu3=  </span></td><td><span style=white-space:pre-wrap>         </span></td><td><span style=white-space:pre-wrap>                           </span></td><td><span style=white-space:pre-wrap>ClinVar only      </span></td><td><span style=white-space:pre-wrap>      </span></td><td>NA</td><td>NA</td><td>⋯</td><td>NA</td><td><span style=white-space:pre-wrap>      NA</span></td><td> </td><td> </td><td>NA</td><td><span style=white-space:pre-wrap>                </span></td><td><span style=white-space:pre-wrap>                                                    </span></td><td><span style=white-space:pre-wrap>                                            </span></td><td>NA</td><td>0</td></tr>\n",
       "\t<tr><td>73</td><td>c.7T&gt;G </td><td>c.7T&gt;G (p.Leu3Val) </td><td>p.Leu3Val</td><td><span style=white-space:pre-wrap>         </span></td><td><span style=white-space:pre-wrap>                           </span></td><td><span style=white-space:pre-wrap>ClinVar only      </span></td><td><span style=white-space:pre-wrap>      </span></td><td>NA</td><td>NA</td><td>⋯</td><td>NA</td><td><span style=white-space:pre-wrap>      NA</span></td><td> </td><td> </td><td>NA</td><td><span style=white-space:pre-wrap>                </span></td><td><span style=white-space:pre-wrap>                                                    </span></td><td><span style=white-space:pre-wrap>                                            </span></td><td> 1</td><td>0</td></tr>\n",
       "\t<tr><td>74</td><td>c.8T&gt;A </td><td>c.8T&gt;A (p.Leu3Ter) </td><td>p.Leu3Ter</td><td><span style=white-space:pre-wrap>         </span></td><td><span style=white-space:pre-wrap>                           </span></td><td><span style=white-space:pre-wrap>ClinVar only      </span></td><td><span style=white-space:pre-wrap>      </span></td><td>NA</td><td>NA</td><td>⋯</td><td>NA</td><td><span style=white-space:pre-wrap>      NA</span></td><td> </td><td> </td><td>NA</td><td><span style=white-space:pre-wrap>                </span></td><td><span style=white-space:pre-wrap>                                                    </span></td><td><span style=white-space:pre-wrap>                                            </span></td><td>NA</td><td>0</td></tr>\n",
       "\t<tr><td>75</td><td>c.8T&gt;C </td><td>c.8T&gt;C (p.Leu3Ser) </td><td>p.Leu3Ser</td><td>p.Leu3Ser</td><td>ENSP00000350283.3:p.Leu3Ser</td><td>gnomAD and ClinVar</td><td>exomes</td><td> 1</td><td>NA</td><td>⋯</td><td>NA</td><td><span style=white-space:pre-wrap>      NA</span></td><td> </td><td> </td><td>NA</td><td><span style=white-space:pre-wrap>                </span></td><td><span style=white-space:pre-wrap>                                                    </span></td><td><span style=white-space:pre-wrap>                                            </span></td><td> 1</td><td>1</td></tr>\n",
       "\t<tr><td>77</td><td>c.8T&gt;G </td><td>c.8T&gt;G (p.Leu3Ter) </td><td>p.Leu3Ter</td><td><span style=white-space:pre-wrap>         </span></td><td><span style=white-space:pre-wrap>                           </span></td><td><span style=white-space:pre-wrap>ClinVar only      </span></td><td><span style=white-space:pre-wrap>      </span></td><td>NA</td><td>NA</td><td>⋯</td><td>NA</td><td><span style=white-space:pre-wrap>      NA</span></td><td> </td><td> </td><td>NA</td><td><span style=white-space:pre-wrap>                </span></td><td><span style=white-space:pre-wrap>                                                    </span></td><td><span style=white-space:pre-wrap>                                            </span></td><td>NA</td><td>0</td></tr>\n",
       "\t<tr><td>81</td><td>c.9A&gt;C </td><td>c.9A&gt;C (p.Leu3Phe) </td><td>p.Leu3Phe</td><td><span style=white-space:pre-wrap>         </span></td><td><span style=white-space:pre-wrap>                           </span></td><td><span style=white-space:pre-wrap>ClinVar only      </span></td><td><span style=white-space:pre-wrap>      </span></td><td>NA</td><td>NA</td><td>⋯</td><td>NA</td><td><span style=white-space:pre-wrap>      NA</span></td><td> </td><td> </td><td>NA</td><td><span style=white-space:pre-wrap>                </span></td><td><span style=white-space:pre-wrap>                                                    </span></td><td><span style=white-space:pre-wrap>                                            </span></td><td>NA</td><td>0</td></tr>\n",
       "\t<tr><td>83</td><td>c.9A&gt;G </td><td><span style=white-space:pre-wrap>c.9A&gt;G (p.Leu3=)   </span></td><td><span style=white-space:pre-wrap>p.Leu3=  </span></td><td><span style=white-space:pre-wrap>p.Leu3=  </span></td><td><span style=white-space:pre-wrap>ENSP00000350283.3:p.Leu3=  </span></td><td>gnomAD and ClinVar</td><td><span style=white-space:pre-wrap>both  </span></td><td> 1</td><td> 1</td><td>⋯</td><td>NA</td><td><span style=white-space:pre-wrap>      NA</span></td><td> </td><td> </td><td>NA</td><td><span style=white-space:pre-wrap>                </span></td><td><span style=white-space:pre-wrap>                                                    </span></td><td><span style=white-space:pre-wrap>                                            </span></td><td>NA</td><td>3</td></tr>\n",
       "\t<tr><td>86</td><td>c.9A&gt;T </td><td>c.9A&gt;T (p.Leu3Phe) </td><td>p.Leu3Phe</td><td><span style=white-space:pre-wrap>         </span></td><td><span style=white-space:pre-wrap>                           </span></td><td><span style=white-space:pre-wrap>ClinVar only      </span></td><td><span style=white-space:pre-wrap>      </span></td><td>NA</td><td>NA</td><td>⋯</td><td>NA</td><td><span style=white-space:pre-wrap>      NA</span></td><td> </td><td> </td><td>NA</td><td><span style=white-space:pre-wrap>                </span></td><td><span style=white-space:pre-wrap>                                                    </span></td><td><span style=white-space:pre-wrap>                                            </span></td><td> 1</td><td>0</td></tr>\n",
       "\t<tr><td>91</td><td>c.10T&gt;A</td><td>c.10T&gt;A (p.Ser4Thr)</td><td>p.Ser4Thr</td><td><span style=white-space:pre-wrap>         </span></td><td><span style=white-space:pre-wrap>                           </span></td><td><span style=white-space:pre-wrap>ClinVar only      </span></td><td><span style=white-space:pre-wrap>      </span></td><td>NA</td><td>NA</td><td>⋯</td><td>NA</td><td><span style=white-space:pre-wrap>      NA</span></td><td> </td><td> </td><td>NA</td><td><span style=white-space:pre-wrap>                </span></td><td><span style=white-space:pre-wrap>                                                    </span></td><td><span style=white-space:pre-wrap>                                            </span></td><td> 1</td><td>0</td></tr>\n",
       "\t<tr><td>92</td><td>c.10T&gt;C</td><td>c.10T&gt;C (p.Ser4Pro)</td><td>p.Ser4Pro</td><td>p.Ser4Pro</td><td>ENSP00000350283.3:p.Ser4Pro</td><td>gnomAD and ClinVar</td><td>exomes</td><td> 1</td><td>NA</td><td>⋯</td><td>17</td><td>43124087</td><td>A</td><td>G</td><td>NA</td><td>missense_variant</td><td><span style=white-space:pre-wrap>criteria_provided,_conflicting_interpretations      </span></td><td>Conflicting_interpretations_of_pathogenicity</td><td> 1</td><td>1</td></tr>\n",
       "\t<tr><td>97</td><td>c.10T&gt;G</td><td>c.10T&gt;G (p.Ser4Ala)</td><td>p.Ser4Ala</td><td><span style=white-space:pre-wrap>         </span></td><td><span style=white-space:pre-wrap>                           </span></td><td><span style=white-space:pre-wrap>ClinVar only      </span></td><td><span style=white-space:pre-wrap>      </span></td><td>NA</td><td>NA</td><td>⋯</td><td>NA</td><td><span style=white-space:pre-wrap>      NA</span></td><td> </td><td> </td><td>NA</td><td><span style=white-space:pre-wrap>                </span></td><td><span style=white-space:pre-wrap>                                                    </span></td><td><span style=white-space:pre-wrap>                                            </span></td><td> 1</td><td>0</td></tr>\n",
       "\t<tr><td>⋮</td><td>⋮</td><td>⋮</td><td>⋮</td><td>⋮</td><td>⋮</td><td>⋮</td><td>⋮</td><td>⋮</td><td>⋮</td><td>⋱</td><td>⋮</td><td>⋮</td><td>⋮</td><td>⋮</td><td>⋮</td><td>⋮</td><td>⋮</td><td>⋮</td><td>⋮</td><td>⋮</td></tr>\n",
       "\t<tr><td>45837</td><td>c.-62G&gt;A </td><td></td><td></td><td></td><td></td><td></td><td></td><td>NA</td><td>NA</td><td>⋯</td><td>17</td><td>43125313</td><td>C </td><td>T</td><td>NA</td><td>5_prime_UTR_variant</td><td><span style=white-space:pre-wrap>criteria_provided,_single_submitter           </span></td><td><span style=white-space:pre-wrap>Uncertain_significance                      </span></td><td>NA</td><td>0</td></tr>\n",
       "\t<tr><td>45838</td><td>c.-66C&gt;G </td><td></td><td></td><td></td><td></td><td></td><td></td><td>NA</td><td>NA</td><td>⋯</td><td>17</td><td>43125317</td><td>G </td><td>C</td><td>NA</td><td>5_prime_UTR_variant</td><td><span style=white-space:pre-wrap>                                              </span></td><td><span style=white-space:pre-wrap>                                            </span></td><td>NA</td><td>0</td></tr>\n",
       "\t<tr><td>45839</td><td>c.-67A&gt;T </td><td></td><td></td><td></td><td></td><td></td><td></td><td>NA</td><td>NA</td><td>⋯</td><td>17</td><td>43125318</td><td>T </td><td>A</td><td>NA</td><td>5_prime_UTR_variant</td><td><span style=white-space:pre-wrap>                                              </span></td><td><span style=white-space:pre-wrap>                                            </span></td><td>NA</td><td>0</td></tr>\n",
       "\t<tr><td>45840</td><td>c.-70A&gt;G </td><td></td><td></td><td></td><td></td><td></td><td></td><td>NA</td><td>NA</td><td>⋯</td><td>17</td><td>43125321</td><td>T </td><td>C</td><td>NA</td><td>5_prime_UTR_variant</td><td><span style=white-space:pre-wrap>                                              </span></td><td><span style=white-space:pre-wrap>                                            </span></td><td>NA</td><td>0</td></tr>\n",
       "\t<tr><td>45841</td><td>c.-71G&gt;C </td><td></td><td></td><td></td><td></td><td></td><td></td><td>NA</td><td>NA</td><td>⋯</td><td>17</td><td>43125322</td><td>C </td><td>G</td><td>NA</td><td>5_prime_UTR_variant</td><td><span style=white-space:pre-wrap>                                              </span></td><td><span style=white-space:pre-wrap>                                            </span></td><td>NA</td><td>0</td></tr>\n",
       "\t<tr><td>45842</td><td>c.-73C&gt;T </td><td></td><td></td><td></td><td></td><td></td><td></td><td>NA</td><td>NA</td><td>⋯</td><td>17</td><td>43125324</td><td>G </td><td>A</td><td>NA</td><td>5_prime_UTR_variant</td><td><span style=white-space:pre-wrap>                                              </span></td><td><span style=white-space:pre-wrap>                                            </span></td><td>NA</td><td>0</td></tr>\n",
       "\t<tr><td>45843</td><td>c.-75C&gt;G </td><td></td><td></td><td></td><td></td><td></td><td></td><td>NA</td><td>NA</td><td>⋯</td><td>17</td><td>43125326</td><td>G </td><td>C</td><td>NA</td><td>5_prime_UTR_variant</td><td><span style=white-space:pre-wrap>criteria_provided,_single_submitter           </span></td><td><span style=white-space:pre-wrap>Uncertain_significance                      </span></td><td>NA</td><td>0</td></tr>\n",
       "\t<tr><td>45844</td><td>c.-86C&gt;T </td><td></td><td></td><td></td><td></td><td></td><td></td><td>NA</td><td>NA</td><td>⋯</td><td>17</td><td>43125337</td><td>G </td><td>A</td><td>NA</td><td>5_prime_UTR_variant</td><td>criteria_provided,_conflicting_interpretations</td><td>Conflicting_interpretations_of_pathogenicity</td><td>NA</td><td>0</td></tr>\n",
       "\t<tr><td>45845</td><td>c.-87G&gt;A </td><td></td><td></td><td></td><td></td><td></td><td></td><td>NA</td><td>NA</td><td>⋯</td><td>17</td><td>43125338</td><td>C </td><td>T</td><td>NA</td><td>5_prime_UTR_variant</td><td><span style=white-space:pre-wrap>                                              </span></td><td><span style=white-space:pre-wrap>                                            </span></td><td>NA</td><td>0</td></tr>\n",
       "\t<tr><td>45846</td><td>c.-89A&gt;G </td><td></td><td></td><td></td><td></td><td></td><td></td><td>NA</td><td>NA</td><td>⋯</td><td>17</td><td>43125340</td><td>T </td><td>C</td><td>NA</td><td>5_prime_UTR_variant</td><td><span style=white-space:pre-wrap>                                              </span></td><td><span style=white-space:pre-wrap>                                            </span></td><td>NA</td><td>0</td></tr>\n",
       "\t<tr><td>45847</td><td>c.-91A&gt;G </td><td></td><td></td><td></td><td></td><td></td><td></td><td>NA</td><td>NA</td><td>⋯</td><td>17</td><td>43125342</td><td>T </td><td>C</td><td>NA</td><td>5_prime_UTR_variant</td><td><span style=white-space:pre-wrap>                                              </span></td><td><span style=white-space:pre-wrap>                                            </span></td><td>NA</td><td>0</td></tr>\n",
       "\t<tr><td>45848</td><td>c.-92del </td><td></td><td></td><td></td><td></td><td></td><td></td><td>NA</td><td>NA</td><td>⋯</td><td>17</td><td>43125342</td><td>TC</td><td>T</td><td>NA</td><td>5_prime_UTR_variant</td><td>                                              </td><td>                                            </td><td>NA</td><td>0</td></tr>\n",
       "\t<tr><td>45849</td><td>c.-92G&gt;T </td><td></td><td></td><td></td><td></td><td></td><td></td><td>NA</td><td>NA</td><td>⋯</td><td>17</td><td>43125343</td><td>C </td><td>A</td><td>NA</td><td>5_prime_UTR_variant</td><td><span style=white-space:pre-wrap>                                              </span></td><td><span style=white-space:pre-wrap>                                            </span></td><td>NA</td><td>0</td></tr>\n",
       "\t<tr><td>45850</td><td>c.-92G&gt;C </td><td></td><td></td><td></td><td></td><td></td><td></td><td>NA</td><td>NA</td><td>⋯</td><td>17</td><td>43125343</td><td>C </td><td>G</td><td>NA</td><td>5_prime_UTR_variant</td><td><span style=white-space:pre-wrap>                                              </span></td><td><span style=white-space:pre-wrap>                                            </span></td><td>NA</td><td>0</td></tr>\n",
       "\t<tr><td>45851</td><td>c.-93G&gt;A </td><td></td><td></td><td></td><td></td><td></td><td></td><td>NA</td><td>NA</td><td>⋯</td><td>17</td><td>43125344</td><td>C </td><td>T</td><td>NA</td><td>5_prime_UTR_variant</td><td><span style=white-space:pre-wrap>                                              </span></td><td><span style=white-space:pre-wrap>                                            </span></td><td>NA</td><td>0</td></tr>\n",
       "\t<tr><td>45852</td><td>c.-97C&gt;T </td><td></td><td></td><td></td><td></td><td></td><td></td><td>NA</td><td>NA</td><td>⋯</td><td>17</td><td>43125348</td><td>G </td><td>A</td><td>NA</td><td>5_prime_UTR_variant</td><td><span style=white-space:pre-wrap>                                              </span></td><td><span style=white-space:pre-wrap>                                            </span></td><td>NA</td><td>0</td></tr>\n",
       "\t<tr><td>45853</td><td>c.-98A&gt;C </td><td></td><td></td><td></td><td></td><td></td><td></td><td>NA</td><td>NA</td><td>⋯</td><td>17</td><td>43125349</td><td>T </td><td>G</td><td>NA</td><td>5_prime_UTR_variant</td><td><span style=white-space:pre-wrap>                                              </span></td><td><span style=white-space:pre-wrap>                                            </span></td><td>NA</td><td>0</td></tr>\n",
       "\t<tr><td>45854</td><td>c.-99G&gt;C </td><td></td><td></td><td></td><td></td><td></td><td></td><td>NA</td><td>NA</td><td>⋯</td><td>17</td><td>43125350</td><td>C </td><td>G</td><td>NA</td><td>5_prime_UTR_variant</td><td><span style=white-space:pre-wrap>criteria_provided,_single_submitter           </span></td><td><span style=white-space:pre-wrap>Likely_benign                               </span></td><td>NA</td><td>0</td></tr>\n",
       "\t<tr><td>45855</td><td>c.-101T&gt;G</td><td></td><td></td><td></td><td></td><td></td><td></td><td>NA</td><td>NA</td><td>⋯</td><td>17</td><td>43125352</td><td>A </td><td>C</td><td>NA</td><td>5_prime_UTR_variant</td><td><span style=white-space:pre-wrap>                                              </span></td><td><span style=white-space:pre-wrap>                                            </span></td><td>NA</td><td>0</td></tr>\n",
       "\t<tr><td>45856</td><td>c.-102C&gt;T</td><td></td><td></td><td></td><td></td><td></td><td></td><td>NA</td><td>NA</td><td>⋯</td><td>17</td><td>43125353</td><td>G </td><td>A</td><td>NA</td><td>5_prime_UTR_variant</td><td><span style=white-space:pre-wrap>                                              </span></td><td><span style=white-space:pre-wrap>                                            </span></td><td>NA</td><td>0</td></tr>\n",
       "\t<tr><td>45857</td><td>c.-105T&gt;C</td><td></td><td></td><td></td><td></td><td></td><td></td><td>NA</td><td>NA</td><td>⋯</td><td>17</td><td>43125356</td><td>A </td><td>G</td><td>NA</td><td>5_prime_UTR_variant</td><td><span style=white-space:pre-wrap>                                              </span></td><td><span style=white-space:pre-wrap>                                            </span></td><td>NA</td><td>0</td></tr>\n",
       "\t<tr><td>45858</td><td>c.-106C&gt;T</td><td></td><td></td><td></td><td></td><td></td><td></td><td>NA</td><td>NA</td><td>⋯</td><td>17</td><td>43125357</td><td>G </td><td>A</td><td>NA</td><td>5_prime_UTR_variant</td><td><span style=white-space:pre-wrap>criteria_provided,_single_submitter           </span></td><td><span style=white-space:pre-wrap>Uncertain_significance                      </span></td><td>NA</td><td>0</td></tr>\n",
       "\t<tr><td>45859</td><td>c.-107A&gt;G</td><td></td><td></td><td></td><td></td><td></td><td></td><td>NA</td><td>NA</td><td>⋯</td><td>17</td><td>43125358</td><td>T </td><td>C</td><td>NA</td><td>5_prime_UTR_variant</td><td><span style=white-space:pre-wrap>                                              </span></td><td><span style=white-space:pre-wrap>                                            </span></td><td>NA</td><td>0</td></tr>\n",
       "\t<tr><td>45860</td><td>c.-110G&gt;C</td><td></td><td></td><td></td><td></td><td></td><td></td><td>NA</td><td>NA</td><td>⋯</td><td>17</td><td>43125361</td><td>C </td><td>G</td><td>NA</td><td>5_prime_UTR_variant</td><td><span style=white-space:pre-wrap>                                              </span></td><td><span style=white-space:pre-wrap>                                            </span></td><td>NA</td><td>0</td></tr>\n",
       "\t<tr><td>45861</td><td>c.-111T&gt;C</td><td></td><td></td><td></td><td></td><td></td><td></td><td>NA</td><td>NA</td><td>⋯</td><td>17</td><td>43125362</td><td>A </td><td>G</td><td>NA</td><td>5_prime_UTR_variant</td><td><span style=white-space:pre-wrap>                                              </span></td><td><span style=white-space:pre-wrap>                                            </span></td><td>NA</td><td>0</td></tr>\n",
       "\t<tr><td>45862</td><td>c.-112C&gt;T</td><td></td><td></td><td></td><td></td><td></td><td></td><td>NA</td><td>NA</td><td>⋯</td><td>17</td><td>43125363</td><td>G </td><td>A</td><td>NA</td><td>5_prime_UTR_variant</td><td><span style=white-space:pre-wrap>                                              </span></td><td><span style=white-space:pre-wrap>                                            </span></td><td>NA</td><td>0</td></tr>\n",
       "\t<tr><td>45863</td><td>c.-114C&gt;A</td><td></td><td></td><td></td><td></td><td></td><td></td><td>NA</td><td>NA</td><td>⋯</td><td>17</td><td>43125365</td><td>G </td><td>T</td><td>NA</td><td>5_prime_UTR_variant</td><td><span style=white-space:pre-wrap>                                              </span></td><td><span style=white-space:pre-wrap>                                            </span></td><td>NA</td><td>0</td></tr>\n",
       "\t<tr><td>45864</td><td>c.-116C&gt;T</td><td></td><td></td><td></td><td></td><td></td><td></td><td>NA</td><td>NA</td><td>⋯</td><td>17</td><td>43125367</td><td>G </td><td>A</td><td>NA</td><td>5_prime_UTR_variant</td><td><span style=white-space:pre-wrap>criteria_provided,_single_submitter           </span></td><td><span style=white-space:pre-wrap>Uncertain_significance                      </span></td><td>NA</td><td>0</td></tr>\n",
       "\t<tr><td>45865</td><td>c.-119del</td><td></td><td></td><td></td><td></td><td></td><td></td><td>NA</td><td>NA</td><td>⋯</td><td>17</td><td>43125369</td><td>TC</td><td>T</td><td>NA</td><td>5_prime_UTR_variant</td><td>                                              </td><td>                                            </td><td>NA</td><td>0</td></tr>\n",
       "\t<tr><td>45866</td><td>c.-119G&gt;C</td><td></td><td></td><td></td><td></td><td></td><td></td><td>NA</td><td>NA</td><td>⋯</td><td>17</td><td>43125370</td><td>C </td><td>G</td><td>NA</td><td>5_prime_UTR_variant</td><td><span style=white-space:pre-wrap>                                              </span></td><td><span style=white-space:pre-wrap>                                            </span></td><td>NA</td><td>0</td></tr>\n",
       "</tbody>\n",
       "</table>\n"
      ],
      "text/latex": [
       "A data.frame: 15517 × 197\n",
       "\\begin{tabular}{lllllllllllllllllllll}\n",
       " X & hgvs\\_nt & txpt\\_hgvsc\\_from\\_ID\\_clinvar & hgvs\\_pro\\_clinvar & hgvs\\_pro\\_gnomad & txpt\\_hgvsp\\_gnomad & variant\\_source & set\\_gnomad & n\\_alt\\_alleles\\_exomes\\_gnomad & n\\_alt\\_alleles\\_genomes\\_gnomad & ⋯ & chr\\_y & pos\\_y & ref\\_y & alt\\_y & DISTANCE & Consequence & Review\\_Status & Class & func\\_class & gnomad\\_control\\_obs\\\\\n",
       " <int> & <chr> & <chr> & <chr> & <chr> & <chr> & <chr> & <chr> & <dbl> & <dbl> & ⋯ & <dbl> & <dbl> & <chr> & <chr> & <lgl> & <chr> & <chr> & <chr> & <dbl> & <dbl>\\\\\n",
       "\\hline\n",
       "\t  0 & c.1A>C  & c.1A>C (p.Met1Leu)  & p.Met1Leu &           &                             & ClinVar only       &        & NA & NA & ⋯ & NA &       NA &   &   & NA &                  &                                                      &                                              & NA & 0\\\\\n",
       "\t  1 & c.1A>G  & c.1A>G (p.Met1Val)  & p.Met1Val & p.Met1?   & ENSP00000350283.3:p.Met1?   & gnomAD and ClinVar & exomes &  2 & NA & ⋯ & 17 & 43124096 & T & C & NA & start\\_lost       & criteria\\_provided,\\_multiple\\_submitters,\\_no\\_conflicts & Pathogenic                                   &  3 & 3\\\\\n",
       "\t 23 & c.1A>T  & c.1A>T (p.Met1Leu)  & p.Met1Leu &           &                             & ClinVar only       &        & NA & NA & ⋯ & NA &       NA &   &   & NA &                  &                                                      &                                              &  3 & 0\\\\\n",
       "\t 24 & c.2T>A  & c.2T>A (p.Met1Lys)  & p.Met1Lys &           &                             & ClinVar only       &        & NA & NA & ⋯ & NA &       NA &   &   & NA &                  &                                                      &                                              &  3 & 0\\\\\n",
       "\t 26 & c.2T>C  & c.2T>C (p.Met1Thr)  & p.Met1Thr &           &                             & ClinVar only       &        & NA & NA & ⋯ & NA &       NA &   &   & NA &                  &                                                      &                                              &  3 & 0\\\\\n",
       "\t 32 & c.2T>G  & c.2T>G (p.Met1Arg)  & p.Met1Arg &           &                             & ClinVar only       &        & NA & NA & ⋯ & 17 & 43124095 & A & C & NA & start\\_lost       & criteria\\_provided,\\_multiple\\_submitters,\\_no\\_conflicts & Pathogenic                                   &  3 & 0\\\\\n",
       "\t 37 & c.3G>A  & c.3G>A (p.Met1Ile)  & p.Met1Ile &           &                             & ClinVar only       &        & NA & NA & ⋯ & NA &       NA &   &   & NA &                  &                                                      &                                              & NA & 0\\\\\n",
       "\t 44 & c.3G>C  & c.3G>C (p.Met1Ile)  & p.Met1Ile &           &                             & ClinVar only       &        & NA & NA & ⋯ & NA &       NA &   &   & NA &                  &                                                      &                                              & NA & 0\\\\\n",
       "\t 46 & c.3G>T  & c.3G>T (p.Met1Ile)  & p.Met1Ile & p.Met1?   & ENSP00000350283.3:p.Met1?   & gnomAD and ClinVar & exomes &  2 & NA & ⋯ & 17 & 43124094 & C & A & NA & start\\_lost       & reviewed\\_by\\_expert\\_panel                             & Pathogenic                                   &  3 & 1\\\\\n",
       "\t 55 & c.4G>A  & c.4G>A (p.Asp2Asn)  & p.Asp2Asn & p.Asp2Asn & ENSP00000350283.3:p.Asp2Asn & gnomAD and ClinVar & exomes &  2 & NA & ⋯ & NA &       NA &   &   & NA &                  &                                                      &                                              &  1 & 3\\\\\n",
       "\t 56 & c.4G>C  & c.4G>C (p.Asp2His)  & p.Asp2His &           &                             & ClinVar only       &        & NA & NA & ⋯ & NA &       NA &   &   & NA &                  &                                                      &                                              &  3 & 0\\\\\n",
       "\t 57 & c.4G>T  & c.4G>T (p.Asp2Tyr)  & p.Asp2Tyr &           &                             & ClinVar only       &        & NA & NA & ⋯ & NA &       NA &   &   & NA &                  &                                                      &                                              &  1 & 0\\\\\n",
       "\t 58 & c.5A>C  & c.5A>C (p.Asp2Ala)  & p.Asp2Ala &           &                             & ClinVar only       &        & NA & NA & ⋯ & NA &       NA &   &   & NA &                  &                                                      &                                              &  1 & 0\\\\\n",
       "\t 59 & c.5A>G  & c.5A>G (p.Asp2Gly)  & p.Asp2Gly &           &                             & ClinVar only       &        & NA & NA & ⋯ & NA &       NA &   &   & NA &                  &                                                      &                                              &  2 & 0\\\\\n",
       "\t 61 & c.5A>T  & c.5A>T (p.Asp2Val)  & p.Asp2Val &           &                             & ClinVar only       &        & NA & NA & ⋯ & NA &       NA &   &   & NA &                  &                                                      &                                              &  2 & 0\\\\\n",
       "\t 62 & c.6T>A  & c.6T>A (p.Asp2Glu)  & p.Asp2Glu &           &                             & ClinVar only       &        & NA & NA & ⋯ & NA &       NA &   &   & NA &                  &                                                      &                                              & NA & 0\\\\\n",
       "\t 63 & c.6T>C  & c.6T>C (p.Asp2=)    & p.Asp2=   & p.Asp2=   & ENSP00000350283.3:p.Asp2=   & gnomAD and ClinVar & both   &  1 &  1 & ⋯ & NA &       NA &   &   & NA &                  &                                                      &                                              & NA & 3\\\\\n",
       "\t 70 & c.6T>G  & c.6T>G (p.Asp2Glu)  & p.Asp2Glu &           &                             & ClinVar only       &        & NA & NA & ⋯ & NA &       NA &   &   & NA &                  &                                                      &                                              &  1 & 0\\\\\n",
       "\t 71 & c.7T>A  & c.7T>A (p.Leu3Ile)  & p.Leu3Ile &           &                             & ClinVar only       &        & NA & NA & ⋯ & NA &       NA &   &   & NA &                  &                                                      &                                              &  1 & 0\\\\\n",
       "\t 72 & c.7T>C  & c.7T>C (p.Leu3=)    & p.Leu3=   &           &                             & ClinVar only       &        & NA & NA & ⋯ & NA &       NA &   &   & NA &                  &                                                      &                                              & NA & 0\\\\\n",
       "\t 73 & c.7T>G  & c.7T>G (p.Leu3Val)  & p.Leu3Val &           &                             & ClinVar only       &        & NA & NA & ⋯ & NA &       NA &   &   & NA &                  &                                                      &                                              &  1 & 0\\\\\n",
       "\t 74 & c.8T>A  & c.8T>A (p.Leu3Ter)  & p.Leu3Ter &           &                             & ClinVar only       &        & NA & NA & ⋯ & NA &       NA &   &   & NA &                  &                                                      &                                              & NA & 0\\\\\n",
       "\t 75 & c.8T>C  & c.8T>C (p.Leu3Ser)  & p.Leu3Ser & p.Leu3Ser & ENSP00000350283.3:p.Leu3Ser & gnomAD and ClinVar & exomes &  1 & NA & ⋯ & NA &       NA &   &   & NA &                  &                                                      &                                              &  1 & 1\\\\\n",
       "\t 77 & c.8T>G  & c.8T>G (p.Leu3Ter)  & p.Leu3Ter &           &                             & ClinVar only       &        & NA & NA & ⋯ & NA &       NA &   &   & NA &                  &                                                      &                                              & NA & 0\\\\\n",
       "\t 81 & c.9A>C  & c.9A>C (p.Leu3Phe)  & p.Leu3Phe &           &                             & ClinVar only       &        & NA & NA & ⋯ & NA &       NA &   &   & NA &                  &                                                      &                                              & NA & 0\\\\\n",
       "\t 83 & c.9A>G  & c.9A>G (p.Leu3=)    & p.Leu3=   & p.Leu3=   & ENSP00000350283.3:p.Leu3=   & gnomAD and ClinVar & both   &  1 &  1 & ⋯ & NA &       NA &   &   & NA &                  &                                                      &                                              & NA & 3\\\\\n",
       "\t 86 & c.9A>T  & c.9A>T (p.Leu3Phe)  & p.Leu3Phe &           &                             & ClinVar only       &        & NA & NA & ⋯ & NA &       NA &   &   & NA &                  &                                                      &                                              &  1 & 0\\\\\n",
       "\t 91 & c.10T>A & c.10T>A (p.Ser4Thr) & p.Ser4Thr &           &                             & ClinVar only       &        & NA & NA & ⋯ & NA &       NA &   &   & NA &                  &                                                      &                                              &  1 & 0\\\\\n",
       "\t 92 & c.10T>C & c.10T>C (p.Ser4Pro) & p.Ser4Pro & p.Ser4Pro & ENSP00000350283.3:p.Ser4Pro & gnomAD and ClinVar & exomes &  1 & NA & ⋯ & 17 & 43124087 & A & G & NA & missense\\_variant & criteria\\_provided,\\_conflicting\\_interpretations       & Conflicting\\_interpretations\\_of\\_pathogenicity &  1 & 1\\\\\n",
       "\t 97 & c.10T>G & c.10T>G (p.Ser4Ala) & p.Ser4Ala &           &                             & ClinVar only       &        & NA & NA & ⋯ & NA &       NA &   &   & NA &                  &                                                      &                                              &  1 & 0\\\\\n",
       "\t ⋮ & ⋮ & ⋮ & ⋮ & ⋮ & ⋮ & ⋮ & ⋮ & ⋮ & ⋮ & ⋱ & ⋮ & ⋮ & ⋮ & ⋮ & ⋮ & ⋮ & ⋮ & ⋮ & ⋮ & ⋮\\\\\n",
       "\t 45837 & c.-62G>A  &  &  &  &  &  &  & NA & NA & ⋯ & 17 & 43125313 & C  & T & NA & 5\\_prime\\_UTR\\_variant & criteria\\_provided,\\_single\\_submitter            & Uncertain\\_significance                       & NA & 0\\\\\n",
       "\t 45838 & c.-66C>G  &  &  &  &  &  &  & NA & NA & ⋯ & 17 & 43125317 & G  & C & NA & 5\\_prime\\_UTR\\_variant &                                                &                                              & NA & 0\\\\\n",
       "\t 45839 & c.-67A>T  &  &  &  &  &  &  & NA & NA & ⋯ & 17 & 43125318 & T  & A & NA & 5\\_prime\\_UTR\\_variant &                                                &                                              & NA & 0\\\\\n",
       "\t 45840 & c.-70A>G  &  &  &  &  &  &  & NA & NA & ⋯ & 17 & 43125321 & T  & C & NA & 5\\_prime\\_UTR\\_variant &                                                &                                              & NA & 0\\\\\n",
       "\t 45841 & c.-71G>C  &  &  &  &  &  &  & NA & NA & ⋯ & 17 & 43125322 & C  & G & NA & 5\\_prime\\_UTR\\_variant &                                                &                                              & NA & 0\\\\\n",
       "\t 45842 & c.-73C>T  &  &  &  &  &  &  & NA & NA & ⋯ & 17 & 43125324 & G  & A & NA & 5\\_prime\\_UTR\\_variant &                                                &                                              & NA & 0\\\\\n",
       "\t 45843 & c.-75C>G  &  &  &  &  &  &  & NA & NA & ⋯ & 17 & 43125326 & G  & C & NA & 5\\_prime\\_UTR\\_variant & criteria\\_provided,\\_single\\_submitter            & Uncertain\\_significance                       & NA & 0\\\\\n",
       "\t 45844 & c.-86C>T  &  &  &  &  &  &  & NA & NA & ⋯ & 17 & 43125337 & G  & A & NA & 5\\_prime\\_UTR\\_variant & criteria\\_provided,\\_conflicting\\_interpretations & Conflicting\\_interpretations\\_of\\_pathogenicity & NA & 0\\\\\n",
       "\t 45845 & c.-87G>A  &  &  &  &  &  &  & NA & NA & ⋯ & 17 & 43125338 & C  & T & NA & 5\\_prime\\_UTR\\_variant &                                                &                                              & NA & 0\\\\\n",
       "\t 45846 & c.-89A>G  &  &  &  &  &  &  & NA & NA & ⋯ & 17 & 43125340 & T  & C & NA & 5\\_prime\\_UTR\\_variant &                                                &                                              & NA & 0\\\\\n",
       "\t 45847 & c.-91A>G  &  &  &  &  &  &  & NA & NA & ⋯ & 17 & 43125342 & T  & C & NA & 5\\_prime\\_UTR\\_variant &                                                &                                              & NA & 0\\\\\n",
       "\t 45848 & c.-92del  &  &  &  &  &  &  & NA & NA & ⋯ & 17 & 43125342 & TC & T & NA & 5\\_prime\\_UTR\\_variant &                                                &                                              & NA & 0\\\\\n",
       "\t 45849 & c.-92G>T  &  &  &  &  &  &  & NA & NA & ⋯ & 17 & 43125343 & C  & A & NA & 5\\_prime\\_UTR\\_variant &                                                &                                              & NA & 0\\\\\n",
       "\t 45850 & c.-92G>C  &  &  &  &  &  &  & NA & NA & ⋯ & 17 & 43125343 & C  & G & NA & 5\\_prime\\_UTR\\_variant &                                                &                                              & NA & 0\\\\\n",
       "\t 45851 & c.-93G>A  &  &  &  &  &  &  & NA & NA & ⋯ & 17 & 43125344 & C  & T & NA & 5\\_prime\\_UTR\\_variant &                                                &                                              & NA & 0\\\\\n",
       "\t 45852 & c.-97C>T  &  &  &  &  &  &  & NA & NA & ⋯ & 17 & 43125348 & G  & A & NA & 5\\_prime\\_UTR\\_variant &                                                &                                              & NA & 0\\\\\n",
       "\t 45853 & c.-98A>C  &  &  &  &  &  &  & NA & NA & ⋯ & 17 & 43125349 & T  & G & NA & 5\\_prime\\_UTR\\_variant &                                                &                                              & NA & 0\\\\\n",
       "\t 45854 & c.-99G>C  &  &  &  &  &  &  & NA & NA & ⋯ & 17 & 43125350 & C  & G & NA & 5\\_prime\\_UTR\\_variant & criteria\\_provided,\\_single\\_submitter            & Likely\\_benign                                & NA & 0\\\\\n",
       "\t 45855 & c.-101T>G &  &  &  &  &  &  & NA & NA & ⋯ & 17 & 43125352 & A  & C & NA & 5\\_prime\\_UTR\\_variant &                                                &                                              & NA & 0\\\\\n",
       "\t 45856 & c.-102C>T &  &  &  &  &  &  & NA & NA & ⋯ & 17 & 43125353 & G  & A & NA & 5\\_prime\\_UTR\\_variant &                                                &                                              & NA & 0\\\\\n",
       "\t 45857 & c.-105T>C &  &  &  &  &  &  & NA & NA & ⋯ & 17 & 43125356 & A  & G & NA & 5\\_prime\\_UTR\\_variant &                                                &                                              & NA & 0\\\\\n",
       "\t 45858 & c.-106C>T &  &  &  &  &  &  & NA & NA & ⋯ & 17 & 43125357 & G  & A & NA & 5\\_prime\\_UTR\\_variant & criteria\\_provided,\\_single\\_submitter            & Uncertain\\_significance                       & NA & 0\\\\\n",
       "\t 45859 & c.-107A>G &  &  &  &  &  &  & NA & NA & ⋯ & 17 & 43125358 & T  & C & NA & 5\\_prime\\_UTR\\_variant &                                                &                                              & NA & 0\\\\\n",
       "\t 45860 & c.-110G>C &  &  &  &  &  &  & NA & NA & ⋯ & 17 & 43125361 & C  & G & NA & 5\\_prime\\_UTR\\_variant &                                                &                                              & NA & 0\\\\\n",
       "\t 45861 & c.-111T>C &  &  &  &  &  &  & NA & NA & ⋯ & 17 & 43125362 & A  & G & NA & 5\\_prime\\_UTR\\_variant &                                                &                                              & NA & 0\\\\\n",
       "\t 45862 & c.-112C>T &  &  &  &  &  &  & NA & NA & ⋯ & 17 & 43125363 & G  & A & NA & 5\\_prime\\_UTR\\_variant &                                                &                                              & NA & 0\\\\\n",
       "\t 45863 & c.-114C>A &  &  &  &  &  &  & NA & NA & ⋯ & 17 & 43125365 & G  & T & NA & 5\\_prime\\_UTR\\_variant &                                                &                                              & NA & 0\\\\\n",
       "\t 45864 & c.-116C>T &  &  &  &  &  &  & NA & NA & ⋯ & 17 & 43125367 & G  & A & NA & 5\\_prime\\_UTR\\_variant & criteria\\_provided,\\_single\\_submitter            & Uncertain\\_significance                       & NA & 0\\\\\n",
       "\t 45865 & c.-119del &  &  &  &  &  &  & NA & NA & ⋯ & 17 & 43125369 & TC & T & NA & 5\\_prime\\_UTR\\_variant &                                                &                                              & NA & 0\\\\\n",
       "\t 45866 & c.-119G>C &  &  &  &  &  &  & NA & NA & ⋯ & 17 & 43125370 & C  & G & NA & 5\\_prime\\_UTR\\_variant &                                                &                                              & NA & 0\\\\\n",
       "\\end{tabular}\n"
      ],
      "text/markdown": [
       "\n",
       "A data.frame: 15517 × 197\n",
       "\n",
       "| X &lt;int&gt; | hgvs_nt &lt;chr&gt; | txpt_hgvsc_from_ID_clinvar &lt;chr&gt; | hgvs_pro_clinvar &lt;chr&gt; | hgvs_pro_gnomad &lt;chr&gt; | txpt_hgvsp_gnomad &lt;chr&gt; | variant_source &lt;chr&gt; | set_gnomad &lt;chr&gt; | n_alt_alleles_exomes_gnomad &lt;dbl&gt; | n_alt_alleles_genomes_gnomad &lt;dbl&gt; | ⋯ ⋯ | chr_y &lt;dbl&gt; | pos_y &lt;dbl&gt; | ref_y &lt;chr&gt; | alt_y &lt;chr&gt; | DISTANCE &lt;lgl&gt; | Consequence &lt;chr&gt; | Review_Status &lt;chr&gt; | Class &lt;chr&gt; | func_class &lt;dbl&gt; | gnomad_control_obs &lt;dbl&gt; |\n",
       "|---|---|---|---|---|---|---|---|---|---|---|---|---|---|---|---|---|---|---|---|---|\n",
       "|  0 | c.1A&gt;C  | c.1A&gt;C (p.Met1Leu)  | p.Met1Leu | <!----> | <!----> | ClinVar only       | <!----> | NA | NA | ⋯ | NA |       NA | <!----> | <!----> | NA | <!----> | <!----> | <!----> | NA | 0 |\n",
       "|  1 | c.1A&gt;G  | c.1A&gt;G (p.Met1Val)  | p.Met1Val | p.Met1?   | ENSP00000350283.3:p.Met1?   | gnomAD and ClinVar | exomes |  2 | NA | ⋯ | 17 | 43124096 | T | C | NA | start_lost       | criteria_provided,_multiple_submitters,_no_conflicts | Pathogenic                                   |  3 | 3 |\n",
       "| 23 | c.1A&gt;T  | c.1A&gt;T (p.Met1Leu)  | p.Met1Leu | <!----> | <!----> | ClinVar only       | <!----> | NA | NA | ⋯ | NA |       NA | <!----> | <!----> | NA | <!----> | <!----> | <!----> |  3 | 0 |\n",
       "| 24 | c.2T&gt;A  | c.2T&gt;A (p.Met1Lys)  | p.Met1Lys | <!----> | <!----> | ClinVar only       | <!----> | NA | NA | ⋯ | NA |       NA | <!----> | <!----> | NA | <!----> | <!----> | <!----> |  3 | 0 |\n",
       "| 26 | c.2T&gt;C  | c.2T&gt;C (p.Met1Thr)  | p.Met1Thr | <!----> | <!----> | ClinVar only       | <!----> | NA | NA | ⋯ | NA |       NA | <!----> | <!----> | NA | <!----> | <!----> | <!----> |  3 | 0 |\n",
       "| 32 | c.2T&gt;G  | c.2T&gt;G (p.Met1Arg)  | p.Met1Arg | <!----> | <!----> | ClinVar only       | <!----> | NA | NA | ⋯ | 17 | 43124095 | A | C | NA | start_lost       | criteria_provided,_multiple_submitters,_no_conflicts | Pathogenic                                   |  3 | 0 |\n",
       "| 37 | c.3G&gt;A  | c.3G&gt;A (p.Met1Ile)  | p.Met1Ile | <!----> | <!----> | ClinVar only       | <!----> | NA | NA | ⋯ | NA |       NA | <!----> | <!----> | NA | <!----> | <!----> | <!----> | NA | 0 |\n",
       "| 44 | c.3G&gt;C  | c.3G&gt;C (p.Met1Ile)  | p.Met1Ile | <!----> | <!----> | ClinVar only       | <!----> | NA | NA | ⋯ | NA |       NA | <!----> | <!----> | NA | <!----> | <!----> | <!----> | NA | 0 |\n",
       "| 46 | c.3G&gt;T  | c.3G&gt;T (p.Met1Ile)  | p.Met1Ile | p.Met1?   | ENSP00000350283.3:p.Met1?   | gnomAD and ClinVar | exomes |  2 | NA | ⋯ | 17 | 43124094 | C | A | NA | start_lost       | reviewed_by_expert_panel                             | Pathogenic                                   |  3 | 1 |\n",
       "| 55 | c.4G&gt;A  | c.4G&gt;A (p.Asp2Asn)  | p.Asp2Asn | p.Asp2Asn | ENSP00000350283.3:p.Asp2Asn | gnomAD and ClinVar | exomes |  2 | NA | ⋯ | NA |       NA | <!----> | <!----> | NA | <!----> | <!----> | <!----> |  1 | 3 |\n",
       "| 56 | c.4G&gt;C  | c.4G&gt;C (p.Asp2His)  | p.Asp2His | <!----> | <!----> | ClinVar only       | <!----> | NA | NA | ⋯ | NA |       NA | <!----> | <!----> | NA | <!----> | <!----> | <!----> |  3 | 0 |\n",
       "| 57 | c.4G&gt;T  | c.4G&gt;T (p.Asp2Tyr)  | p.Asp2Tyr | <!----> | <!----> | ClinVar only       | <!----> | NA | NA | ⋯ | NA |       NA | <!----> | <!----> | NA | <!----> | <!----> | <!----> |  1 | 0 |\n",
       "| 58 | c.5A&gt;C  | c.5A&gt;C (p.Asp2Ala)  | p.Asp2Ala | <!----> | <!----> | ClinVar only       | <!----> | NA | NA | ⋯ | NA |       NA | <!----> | <!----> | NA | <!----> | <!----> | <!----> |  1 | 0 |\n",
       "| 59 | c.5A&gt;G  | c.5A&gt;G (p.Asp2Gly)  | p.Asp2Gly | <!----> | <!----> | ClinVar only       | <!----> | NA | NA | ⋯ | NA |       NA | <!----> | <!----> | NA | <!----> | <!----> | <!----> |  2 | 0 |\n",
       "| 61 | c.5A&gt;T  | c.5A&gt;T (p.Asp2Val)  | p.Asp2Val | <!----> | <!----> | ClinVar only       | <!----> | NA | NA | ⋯ | NA |       NA | <!----> | <!----> | NA | <!----> | <!----> | <!----> |  2 | 0 |\n",
       "| 62 | c.6T&gt;A  | c.6T&gt;A (p.Asp2Glu)  | p.Asp2Glu | <!----> | <!----> | ClinVar only       | <!----> | NA | NA | ⋯ | NA |       NA | <!----> | <!----> | NA | <!----> | <!----> | <!----> | NA | 0 |\n",
       "| 63 | c.6T&gt;C  | c.6T&gt;C (p.Asp2=)    | p.Asp2=   | p.Asp2=   | ENSP00000350283.3:p.Asp2=   | gnomAD and ClinVar | both   |  1 |  1 | ⋯ | NA |       NA | <!----> | <!----> | NA | <!----> | <!----> | <!----> | NA | 3 |\n",
       "| 70 | c.6T&gt;G  | c.6T&gt;G (p.Asp2Glu)  | p.Asp2Glu | <!----> | <!----> | ClinVar only       | <!----> | NA | NA | ⋯ | NA |       NA | <!----> | <!----> | NA | <!----> | <!----> | <!----> |  1 | 0 |\n",
       "| 71 | c.7T&gt;A  | c.7T&gt;A (p.Leu3Ile)  | p.Leu3Ile | <!----> | <!----> | ClinVar only       | <!----> | NA | NA | ⋯ | NA |       NA | <!----> | <!----> | NA | <!----> | <!----> | <!----> |  1 | 0 |\n",
       "| 72 | c.7T&gt;C  | c.7T&gt;C (p.Leu3=)    | p.Leu3=   | <!----> | <!----> | ClinVar only       | <!----> | NA | NA | ⋯ | NA |       NA | <!----> | <!----> | NA | <!----> | <!----> | <!----> | NA | 0 |\n",
       "| 73 | c.7T&gt;G  | c.7T&gt;G (p.Leu3Val)  | p.Leu3Val | <!----> | <!----> | ClinVar only       | <!----> | NA | NA | ⋯ | NA |       NA | <!----> | <!----> | NA | <!----> | <!----> | <!----> |  1 | 0 |\n",
       "| 74 | c.8T&gt;A  | c.8T&gt;A (p.Leu3Ter)  | p.Leu3Ter | <!----> | <!----> | ClinVar only       | <!----> | NA | NA | ⋯ | NA |       NA | <!----> | <!----> | NA | <!----> | <!----> | <!----> | NA | 0 |\n",
       "| 75 | c.8T&gt;C  | c.8T&gt;C (p.Leu3Ser)  | p.Leu3Ser | p.Leu3Ser | ENSP00000350283.3:p.Leu3Ser | gnomAD and ClinVar | exomes |  1 | NA | ⋯ | NA |       NA | <!----> | <!----> | NA | <!----> | <!----> | <!----> |  1 | 1 |\n",
       "| 77 | c.8T&gt;G  | c.8T&gt;G (p.Leu3Ter)  | p.Leu3Ter | <!----> | <!----> | ClinVar only       | <!----> | NA | NA | ⋯ | NA |       NA | <!----> | <!----> | NA | <!----> | <!----> | <!----> | NA | 0 |\n",
       "| 81 | c.9A&gt;C  | c.9A&gt;C (p.Leu3Phe)  | p.Leu3Phe | <!----> | <!----> | ClinVar only       | <!----> | NA | NA | ⋯ | NA |       NA | <!----> | <!----> | NA | <!----> | <!----> | <!----> | NA | 0 |\n",
       "| 83 | c.9A&gt;G  | c.9A&gt;G (p.Leu3=)    | p.Leu3=   | p.Leu3=   | ENSP00000350283.3:p.Leu3=   | gnomAD and ClinVar | both   |  1 |  1 | ⋯ | NA |       NA | <!----> | <!----> | NA | <!----> | <!----> | <!----> | NA | 3 |\n",
       "| 86 | c.9A&gt;T  | c.9A&gt;T (p.Leu3Phe)  | p.Leu3Phe | <!----> | <!----> | ClinVar only       | <!----> | NA | NA | ⋯ | NA |       NA | <!----> | <!----> | NA | <!----> | <!----> | <!----> |  1 | 0 |\n",
       "| 91 | c.10T&gt;A | c.10T&gt;A (p.Ser4Thr) | p.Ser4Thr | <!----> | <!----> | ClinVar only       | <!----> | NA | NA | ⋯ | NA |       NA | <!----> | <!----> | NA | <!----> | <!----> | <!----> |  1 | 0 |\n",
       "| 92 | c.10T&gt;C | c.10T&gt;C (p.Ser4Pro) | p.Ser4Pro | p.Ser4Pro | ENSP00000350283.3:p.Ser4Pro | gnomAD and ClinVar | exomes |  1 | NA | ⋯ | 17 | 43124087 | A | G | NA | missense_variant | criteria_provided,_conflicting_interpretations       | Conflicting_interpretations_of_pathogenicity |  1 | 1 |\n",
       "| 97 | c.10T&gt;G | c.10T&gt;G (p.Ser4Ala) | p.Ser4Ala | <!----> | <!----> | ClinVar only       | <!----> | NA | NA | ⋯ | NA |       NA | <!----> | <!----> | NA | <!----> | <!----> | <!----> |  1 | 0 |\n",
       "| ⋮ | ⋮ | ⋮ | ⋮ | ⋮ | ⋮ | ⋮ | ⋮ | ⋮ | ⋮ | ⋱ | ⋮ | ⋮ | ⋮ | ⋮ | ⋮ | ⋮ | ⋮ | ⋮ | ⋮ | ⋮ |\n",
       "| 45837 | c.-62G&gt;A  | <!----> | <!----> | <!----> | <!----> | <!----> | <!----> | NA | NA | ⋯ | 17 | 43125313 | C  | T | NA | 5_prime_UTR_variant | criteria_provided,_single_submitter            | Uncertain_significance                       | NA | 0 |\n",
       "| 45838 | c.-66C&gt;G  | <!----> | <!----> | <!----> | <!----> | <!----> | <!----> | NA | NA | ⋯ | 17 | 43125317 | G  | C | NA | 5_prime_UTR_variant | <!----> | <!----> | NA | 0 |\n",
       "| 45839 | c.-67A&gt;T  | <!----> | <!----> | <!----> | <!----> | <!----> | <!----> | NA | NA | ⋯ | 17 | 43125318 | T  | A | NA | 5_prime_UTR_variant | <!----> | <!----> | NA | 0 |\n",
       "| 45840 | c.-70A&gt;G  | <!----> | <!----> | <!----> | <!----> | <!----> | <!----> | NA | NA | ⋯ | 17 | 43125321 | T  | C | NA | 5_prime_UTR_variant | <!----> | <!----> | NA | 0 |\n",
       "| 45841 | c.-71G&gt;C  | <!----> | <!----> | <!----> | <!----> | <!----> | <!----> | NA | NA | ⋯ | 17 | 43125322 | C  | G | NA | 5_prime_UTR_variant | <!----> | <!----> | NA | 0 |\n",
       "| 45842 | c.-73C&gt;T  | <!----> | <!----> | <!----> | <!----> | <!----> | <!----> | NA | NA | ⋯ | 17 | 43125324 | G  | A | NA | 5_prime_UTR_variant | <!----> | <!----> | NA | 0 |\n",
       "| 45843 | c.-75C&gt;G  | <!----> | <!----> | <!----> | <!----> | <!----> | <!----> | NA | NA | ⋯ | 17 | 43125326 | G  | C | NA | 5_prime_UTR_variant | criteria_provided,_single_submitter            | Uncertain_significance                       | NA | 0 |\n",
       "| 45844 | c.-86C&gt;T  | <!----> | <!----> | <!----> | <!----> | <!----> | <!----> | NA | NA | ⋯ | 17 | 43125337 | G  | A | NA | 5_prime_UTR_variant | criteria_provided,_conflicting_interpretations | Conflicting_interpretations_of_pathogenicity | NA | 0 |\n",
       "| 45845 | c.-87G&gt;A  | <!----> | <!----> | <!----> | <!----> | <!----> | <!----> | NA | NA | ⋯ | 17 | 43125338 | C  | T | NA | 5_prime_UTR_variant | <!----> | <!----> | NA | 0 |\n",
       "| 45846 | c.-89A&gt;G  | <!----> | <!----> | <!----> | <!----> | <!----> | <!----> | NA | NA | ⋯ | 17 | 43125340 | T  | C | NA | 5_prime_UTR_variant | <!----> | <!----> | NA | 0 |\n",
       "| 45847 | c.-91A&gt;G  | <!----> | <!----> | <!----> | <!----> | <!----> | <!----> | NA | NA | ⋯ | 17 | 43125342 | T  | C | NA | 5_prime_UTR_variant | <!----> | <!----> | NA | 0 |\n",
       "| 45848 | c.-92del  | <!----> | <!----> | <!----> | <!----> | <!----> | <!----> | NA | NA | ⋯ | 17 | 43125342 | TC | T | NA | 5_prime_UTR_variant | <!----> | <!----> | NA | 0 |\n",
       "| 45849 | c.-92G&gt;T  | <!----> | <!----> | <!----> | <!----> | <!----> | <!----> | NA | NA | ⋯ | 17 | 43125343 | C  | A | NA | 5_prime_UTR_variant | <!----> | <!----> | NA | 0 |\n",
       "| 45850 | c.-92G&gt;C  | <!----> | <!----> | <!----> | <!----> | <!----> | <!----> | NA | NA | ⋯ | 17 | 43125343 | C  | G | NA | 5_prime_UTR_variant | <!----> | <!----> | NA | 0 |\n",
       "| 45851 | c.-93G&gt;A  | <!----> | <!----> | <!----> | <!----> | <!----> | <!----> | NA | NA | ⋯ | 17 | 43125344 | C  | T | NA | 5_prime_UTR_variant | <!----> | <!----> | NA | 0 |\n",
       "| 45852 | c.-97C&gt;T  | <!----> | <!----> | <!----> | <!----> | <!----> | <!----> | NA | NA | ⋯ | 17 | 43125348 | G  | A | NA | 5_prime_UTR_variant | <!----> | <!----> | NA | 0 |\n",
       "| 45853 | c.-98A&gt;C  | <!----> | <!----> | <!----> | <!----> | <!----> | <!----> | NA | NA | ⋯ | 17 | 43125349 | T  | G | NA | 5_prime_UTR_variant | <!----> | <!----> | NA | 0 |\n",
       "| 45854 | c.-99G&gt;C  | <!----> | <!----> | <!----> | <!----> | <!----> | <!----> | NA | NA | ⋯ | 17 | 43125350 | C  | G | NA | 5_prime_UTR_variant | criteria_provided,_single_submitter            | Likely_benign                                | NA | 0 |\n",
       "| 45855 | c.-101T&gt;G | <!----> | <!----> | <!----> | <!----> | <!----> | <!----> | NA | NA | ⋯ | 17 | 43125352 | A  | C | NA | 5_prime_UTR_variant | <!----> | <!----> | NA | 0 |\n",
       "| 45856 | c.-102C&gt;T | <!----> | <!----> | <!----> | <!----> | <!----> | <!----> | NA | NA | ⋯ | 17 | 43125353 | G  | A | NA | 5_prime_UTR_variant | <!----> | <!----> | NA | 0 |\n",
       "| 45857 | c.-105T&gt;C | <!----> | <!----> | <!----> | <!----> | <!----> | <!----> | NA | NA | ⋯ | 17 | 43125356 | A  | G | NA | 5_prime_UTR_variant | <!----> | <!----> | NA | 0 |\n",
       "| 45858 | c.-106C&gt;T | <!----> | <!----> | <!----> | <!----> | <!----> | <!----> | NA | NA | ⋯ | 17 | 43125357 | G  | A | NA | 5_prime_UTR_variant | criteria_provided,_single_submitter            | Uncertain_significance                       | NA | 0 |\n",
       "| 45859 | c.-107A&gt;G | <!----> | <!----> | <!----> | <!----> | <!----> | <!----> | NA | NA | ⋯ | 17 | 43125358 | T  | C | NA | 5_prime_UTR_variant | <!----> | <!----> | NA | 0 |\n",
       "| 45860 | c.-110G&gt;C | <!----> | <!----> | <!----> | <!----> | <!----> | <!----> | NA | NA | ⋯ | 17 | 43125361 | C  | G | NA | 5_prime_UTR_variant | <!----> | <!----> | NA | 0 |\n",
       "| 45861 | c.-111T&gt;C | <!----> | <!----> | <!----> | <!----> | <!----> | <!----> | NA | NA | ⋯ | 17 | 43125362 | A  | G | NA | 5_prime_UTR_variant | <!----> | <!----> | NA | 0 |\n",
       "| 45862 | c.-112C&gt;T | <!----> | <!----> | <!----> | <!----> | <!----> | <!----> | NA | NA | ⋯ | 17 | 43125363 | G  | A | NA | 5_prime_UTR_variant | <!----> | <!----> | NA | 0 |\n",
       "| 45863 | c.-114C&gt;A | <!----> | <!----> | <!----> | <!----> | <!----> | <!----> | NA | NA | ⋯ | 17 | 43125365 | G  | T | NA | 5_prime_UTR_variant | <!----> | <!----> | NA | 0 |\n",
       "| 45864 | c.-116C&gt;T | <!----> | <!----> | <!----> | <!----> | <!----> | <!----> | NA | NA | ⋯ | 17 | 43125367 | G  | A | NA | 5_prime_UTR_variant | criteria_provided,_single_submitter            | Uncertain_significance                       | NA | 0 |\n",
       "| 45865 | c.-119del | <!----> | <!----> | <!----> | <!----> | <!----> | <!----> | NA | NA | ⋯ | 17 | 43125369 | TC | T | NA | 5_prime_UTR_variant | <!----> | <!----> | NA | 0 |\n",
       "| 45866 | c.-119G&gt;C | <!----> | <!----> | <!----> | <!----> | <!----> | <!----> | NA | NA | ⋯ | 17 | 43125370 | C  | G | NA | 5_prime_UTR_variant | <!----> | <!----> | NA | 0 |\n",
       "\n"
      ],
      "text/plain": [
       "      X     hgvs_nt   txpt_hgvsc_from_ID_clinvar hgvs_pro_clinvar\n",
       "1      0    c.1A>C    c.1A>C (p.Met1Leu)         p.Met1Leu       \n",
       "2      1    c.1A>G    c.1A>G (p.Met1Val)         p.Met1Val       \n",
       "3     23    c.1A>T    c.1A>T (p.Met1Leu)         p.Met1Leu       \n",
       "4     24    c.2T>A    c.2T>A (p.Met1Lys)         p.Met1Lys       \n",
       "5     26    c.2T>C    c.2T>C (p.Met1Thr)         p.Met1Thr       \n",
       "6     32    c.2T>G    c.2T>G (p.Met1Arg)         p.Met1Arg       \n",
       "7     37    c.3G>A    c.3G>A (p.Met1Ile)         p.Met1Ile       \n",
       "8     44    c.3G>C    c.3G>C (p.Met1Ile)         p.Met1Ile       \n",
       "9     46    c.3G>T    c.3G>T (p.Met1Ile)         p.Met1Ile       \n",
       "10    55    c.4G>A    c.4G>A (p.Asp2Asn)         p.Asp2Asn       \n",
       "11    56    c.4G>C    c.4G>C (p.Asp2His)         p.Asp2His       \n",
       "12    57    c.4G>T    c.4G>T (p.Asp2Tyr)         p.Asp2Tyr       \n",
       "13    58    c.5A>C    c.5A>C (p.Asp2Ala)         p.Asp2Ala       \n",
       "14    59    c.5A>G    c.5A>G (p.Asp2Gly)         p.Asp2Gly       \n",
       "15    61    c.5A>T    c.5A>T (p.Asp2Val)         p.Asp2Val       \n",
       "16    62    c.6T>A    c.6T>A (p.Asp2Glu)         p.Asp2Glu       \n",
       "17    63    c.6T>C    c.6T>C (p.Asp2=)           p.Asp2=         \n",
       "18    70    c.6T>G    c.6T>G (p.Asp2Glu)         p.Asp2Glu       \n",
       "19    71    c.7T>A    c.7T>A (p.Leu3Ile)         p.Leu3Ile       \n",
       "20    72    c.7T>C    c.7T>C (p.Leu3=)           p.Leu3=         \n",
       "21    73    c.7T>G    c.7T>G (p.Leu3Val)         p.Leu3Val       \n",
       "22    74    c.8T>A    c.8T>A (p.Leu3Ter)         p.Leu3Ter       \n",
       "23    75    c.8T>C    c.8T>C (p.Leu3Ser)         p.Leu3Ser       \n",
       "24    77    c.8T>G    c.8T>G (p.Leu3Ter)         p.Leu3Ter       \n",
       "25    81    c.9A>C    c.9A>C (p.Leu3Phe)         p.Leu3Phe       \n",
       "26    83    c.9A>G    c.9A>G (p.Leu3=)           p.Leu3=         \n",
       "27    86    c.9A>T    c.9A>T (p.Leu3Phe)         p.Leu3Phe       \n",
       "28    91    c.10T>A   c.10T>A (p.Ser4Thr)        p.Ser4Thr       \n",
       "29    92    c.10T>C   c.10T>C (p.Ser4Pro)        p.Ser4Pro       \n",
       "30    97    c.10T>G   c.10T>G (p.Ser4Ala)        p.Ser4Ala       \n",
       "⋮     ⋮     ⋮         ⋮                          ⋮               \n",
       "15488 45837 c.-62G>A                                             \n",
       "15489 45838 c.-66C>G                                             \n",
       "15490 45839 c.-67A>T                                             \n",
       "15491 45840 c.-70A>G                                             \n",
       "15492 45841 c.-71G>C                                             \n",
       "15493 45842 c.-73C>T                                             \n",
       "15494 45843 c.-75C>G                                             \n",
       "15495 45844 c.-86C>T                                             \n",
       "15496 45845 c.-87G>A                                             \n",
       "15497 45846 c.-89A>G                                             \n",
       "15498 45847 c.-91A>G                                             \n",
       "15499 45848 c.-92del                                             \n",
       "15500 45849 c.-92G>T                                             \n",
       "15501 45850 c.-92G>C                                             \n",
       "15502 45851 c.-93G>A                                             \n",
       "15503 45852 c.-97C>T                                             \n",
       "15504 45853 c.-98A>C                                             \n",
       "15505 45854 c.-99G>C                                             \n",
       "15506 45855 c.-101T>G                                            \n",
       "15507 45856 c.-102C>T                                            \n",
       "15508 45857 c.-105T>C                                            \n",
       "15509 45858 c.-106C>T                                            \n",
       "15510 45859 c.-107A>G                                            \n",
       "15511 45860 c.-110G>C                                            \n",
       "15512 45861 c.-111T>C                                            \n",
       "15513 45862 c.-112C>T                                            \n",
       "15514 45863 c.-114C>A                                            \n",
       "15515 45864 c.-116C>T                                            \n",
       "15516 45865 c.-119del                                            \n",
       "15517 45866 c.-119G>C                                            \n",
       "      hgvs_pro_gnomad txpt_hgvsp_gnomad           variant_source     set_gnomad\n",
       "1                                                 ClinVar only                 \n",
       "2     p.Met1?         ENSP00000350283.3:p.Met1?   gnomAD and ClinVar exomes    \n",
       "3                                                 ClinVar only                 \n",
       "4                                                 ClinVar only                 \n",
       "5                                                 ClinVar only                 \n",
       "6                                                 ClinVar only                 \n",
       "7                                                 ClinVar only                 \n",
       "8                                                 ClinVar only                 \n",
       "9     p.Met1?         ENSP00000350283.3:p.Met1?   gnomAD and ClinVar exomes    \n",
       "10    p.Asp2Asn       ENSP00000350283.3:p.Asp2Asn gnomAD and ClinVar exomes    \n",
       "11                                                ClinVar only                 \n",
       "12                                                ClinVar only                 \n",
       "13                                                ClinVar only                 \n",
       "14                                                ClinVar only                 \n",
       "15                                                ClinVar only                 \n",
       "16                                                ClinVar only                 \n",
       "17    p.Asp2=         ENSP00000350283.3:p.Asp2=   gnomAD and ClinVar both      \n",
       "18                                                ClinVar only                 \n",
       "19                                                ClinVar only                 \n",
       "20                                                ClinVar only                 \n",
       "21                                                ClinVar only                 \n",
       "22                                                ClinVar only                 \n",
       "23    p.Leu3Ser       ENSP00000350283.3:p.Leu3Ser gnomAD and ClinVar exomes    \n",
       "24                                                ClinVar only                 \n",
       "25                                                ClinVar only                 \n",
       "26    p.Leu3=         ENSP00000350283.3:p.Leu3=   gnomAD and ClinVar both      \n",
       "27                                                ClinVar only                 \n",
       "28                                                ClinVar only                 \n",
       "29    p.Ser4Pro       ENSP00000350283.3:p.Ser4Pro gnomAD and ClinVar exomes    \n",
       "30                                                ClinVar only                 \n",
       "⋮     ⋮               ⋮                           ⋮                  ⋮         \n",
       "15488                                                                          \n",
       "15489                                                                          \n",
       "15490                                                                          \n",
       "15491                                                                          \n",
       "15492                                                                          \n",
       "15493                                                                          \n",
       "15494                                                                          \n",
       "15495                                                                          \n",
       "15496                                                                          \n",
       "15497                                                                          \n",
       "15498                                                                          \n",
       "15499                                                                          \n",
       "15500                                                                          \n",
       "15501                                                                          \n",
       "15502                                                                          \n",
       "15503                                                                          \n",
       "15504                                                                          \n",
       "15505                                                                          \n",
       "15506                                                                          \n",
       "15507                                                                          \n",
       "15508                                                                          \n",
       "15509                                                                          \n",
       "15510                                                                          \n",
       "15511                                                                          \n",
       "15512                                                                          \n",
       "15513                                                                          \n",
       "15514                                                                          \n",
       "15515                                                                          \n",
       "15516                                                                          \n",
       "15517                                                                          \n",
       "      n_alt_alleles_exomes_gnomad n_alt_alleles_genomes_gnomad ⋯ chr_y pos_y   \n",
       "1     NA                          NA                           ⋯ NA          NA\n",
       "2      2                          NA                           ⋯ 17    43124096\n",
       "3     NA                          NA                           ⋯ NA          NA\n",
       "4     NA                          NA                           ⋯ NA          NA\n",
       "5     NA                          NA                           ⋯ NA          NA\n",
       "6     NA                          NA                           ⋯ 17    43124095\n",
       "7     NA                          NA                           ⋯ NA          NA\n",
       "8     NA                          NA                           ⋯ NA          NA\n",
       "9      2                          NA                           ⋯ 17    43124094\n",
       "10     2                          NA                           ⋯ NA          NA\n",
       "11    NA                          NA                           ⋯ NA          NA\n",
       "12    NA                          NA                           ⋯ NA          NA\n",
       "13    NA                          NA                           ⋯ NA          NA\n",
       "14    NA                          NA                           ⋯ NA          NA\n",
       "15    NA                          NA                           ⋯ NA          NA\n",
       "16    NA                          NA                           ⋯ NA          NA\n",
       "17     1                           1                           ⋯ NA          NA\n",
       "18    NA                          NA                           ⋯ NA          NA\n",
       "19    NA                          NA                           ⋯ NA          NA\n",
       "20    NA                          NA                           ⋯ NA          NA\n",
       "21    NA                          NA                           ⋯ NA          NA\n",
       "22    NA                          NA                           ⋯ NA          NA\n",
       "23     1                          NA                           ⋯ NA          NA\n",
       "24    NA                          NA                           ⋯ NA          NA\n",
       "25    NA                          NA                           ⋯ NA          NA\n",
       "26     1                           1                           ⋯ NA          NA\n",
       "27    NA                          NA                           ⋯ NA          NA\n",
       "28    NA                          NA                           ⋯ NA          NA\n",
       "29     1                          NA                           ⋯ 17    43124087\n",
       "30    NA                          NA                           ⋯ NA          NA\n",
       "⋮     ⋮                           ⋮                            ⋱ ⋮     ⋮       \n",
       "15488 NA                          NA                           ⋯ 17    43125313\n",
       "15489 NA                          NA                           ⋯ 17    43125317\n",
       "15490 NA                          NA                           ⋯ 17    43125318\n",
       "15491 NA                          NA                           ⋯ 17    43125321\n",
       "15492 NA                          NA                           ⋯ 17    43125322\n",
       "15493 NA                          NA                           ⋯ 17    43125324\n",
       "15494 NA                          NA                           ⋯ 17    43125326\n",
       "15495 NA                          NA                           ⋯ 17    43125337\n",
       "15496 NA                          NA                           ⋯ 17    43125338\n",
       "15497 NA                          NA                           ⋯ 17    43125340\n",
       "15498 NA                          NA                           ⋯ 17    43125342\n",
       "15499 NA                          NA                           ⋯ 17    43125342\n",
       "15500 NA                          NA                           ⋯ 17    43125343\n",
       "15501 NA                          NA                           ⋯ 17    43125343\n",
       "15502 NA                          NA                           ⋯ 17    43125344\n",
       "15503 NA                          NA                           ⋯ 17    43125348\n",
       "15504 NA                          NA                           ⋯ 17    43125349\n",
       "15505 NA                          NA                           ⋯ 17    43125350\n",
       "15506 NA                          NA                           ⋯ 17    43125352\n",
       "15507 NA                          NA                           ⋯ 17    43125353\n",
       "15508 NA                          NA                           ⋯ 17    43125356\n",
       "15509 NA                          NA                           ⋯ 17    43125357\n",
       "15510 NA                          NA                           ⋯ 17    43125358\n",
       "15511 NA                          NA                           ⋯ 17    43125361\n",
       "15512 NA                          NA                           ⋯ 17    43125362\n",
       "15513 NA                          NA                           ⋯ 17    43125363\n",
       "15514 NA                          NA                           ⋯ 17    43125365\n",
       "15515 NA                          NA                           ⋯ 17    43125367\n",
       "15516 NA                          NA                           ⋯ 17    43125369\n",
       "15517 NA                          NA                           ⋯ 17    43125370\n",
       "      ref_y alt_y DISTANCE Consequence        \n",
       "1                 NA                          \n",
       "2     T     C     NA       start_lost         \n",
       "3                 NA                          \n",
       "4                 NA                          \n",
       "5                 NA                          \n",
       "6     A     C     NA       start_lost         \n",
       "7                 NA                          \n",
       "8                 NA                          \n",
       "9     C     A     NA       start_lost         \n",
       "10                NA                          \n",
       "11                NA                          \n",
       "12                NA                          \n",
       "13                NA                          \n",
       "14                NA                          \n",
       "15                NA                          \n",
       "16                NA                          \n",
       "17                NA                          \n",
       "18                NA                          \n",
       "19                NA                          \n",
       "20                NA                          \n",
       "21                NA                          \n",
       "22                NA                          \n",
       "23                NA                          \n",
       "24                NA                          \n",
       "25                NA                          \n",
       "26                NA                          \n",
       "27                NA                          \n",
       "28                NA                          \n",
       "29    A     G     NA       missense_variant   \n",
       "30                NA                          \n",
       "⋮     ⋮     ⋮     ⋮        ⋮                  \n",
       "15488 C     T     NA       5_prime_UTR_variant\n",
       "15489 G     C     NA       5_prime_UTR_variant\n",
       "15490 T     A     NA       5_prime_UTR_variant\n",
       "15491 T     C     NA       5_prime_UTR_variant\n",
       "15492 C     G     NA       5_prime_UTR_variant\n",
       "15493 G     A     NA       5_prime_UTR_variant\n",
       "15494 G     C     NA       5_prime_UTR_variant\n",
       "15495 G     A     NA       5_prime_UTR_variant\n",
       "15496 C     T     NA       5_prime_UTR_variant\n",
       "15497 T     C     NA       5_prime_UTR_variant\n",
       "15498 T     C     NA       5_prime_UTR_variant\n",
       "15499 TC    T     NA       5_prime_UTR_variant\n",
       "15500 C     A     NA       5_prime_UTR_variant\n",
       "15501 C     G     NA       5_prime_UTR_variant\n",
       "15502 C     T     NA       5_prime_UTR_variant\n",
       "15503 G     A     NA       5_prime_UTR_variant\n",
       "15504 T     G     NA       5_prime_UTR_variant\n",
       "15505 C     G     NA       5_prime_UTR_variant\n",
       "15506 A     C     NA       5_prime_UTR_variant\n",
       "15507 G     A     NA       5_prime_UTR_variant\n",
       "15508 A     G     NA       5_prime_UTR_variant\n",
       "15509 G     A     NA       5_prime_UTR_variant\n",
       "15510 T     C     NA       5_prime_UTR_variant\n",
       "15511 C     G     NA       5_prime_UTR_variant\n",
       "15512 A     G     NA       5_prime_UTR_variant\n",
       "15513 G     A     NA       5_prime_UTR_variant\n",
       "15514 G     T     NA       5_prime_UTR_variant\n",
       "15515 G     A     NA       5_prime_UTR_variant\n",
       "15516 TC    T     NA       5_prime_UTR_variant\n",
       "15517 C     G     NA       5_prime_UTR_variant\n",
       "      Review_Status                                       \n",
       "1                                                         \n",
       "2     criteria_provided,_multiple_submitters,_no_conflicts\n",
       "3                                                         \n",
       "4                                                         \n",
       "5                                                         \n",
       "6     criteria_provided,_multiple_submitters,_no_conflicts\n",
       "7                                                         \n",
       "8                                                         \n",
       "9     reviewed_by_expert_panel                            \n",
       "10                                                        \n",
       "11                                                        \n",
       "12                                                        \n",
       "13                                                        \n",
       "14                                                        \n",
       "15                                                        \n",
       "16                                                        \n",
       "17                                                        \n",
       "18                                                        \n",
       "19                                                        \n",
       "20                                                        \n",
       "21                                                        \n",
       "22                                                        \n",
       "23                                                        \n",
       "24                                                        \n",
       "25                                                        \n",
       "26                                                        \n",
       "27                                                        \n",
       "28                                                        \n",
       "29    criteria_provided,_conflicting_interpretations      \n",
       "30                                                        \n",
       "⋮     ⋮                                                   \n",
       "15488 criteria_provided,_single_submitter                 \n",
       "15489                                                     \n",
       "15490                                                     \n",
       "15491                                                     \n",
       "15492                                                     \n",
       "15493                                                     \n",
       "15494 criteria_provided,_single_submitter                 \n",
       "15495 criteria_provided,_conflicting_interpretations      \n",
       "15496                                                     \n",
       "15497                                                     \n",
       "15498                                                     \n",
       "15499                                                     \n",
       "15500                                                     \n",
       "15501                                                     \n",
       "15502                                                     \n",
       "15503                                                     \n",
       "15504                                                     \n",
       "15505 criteria_provided,_single_submitter                 \n",
       "15506                                                     \n",
       "15507                                                     \n",
       "15508                                                     \n",
       "15509 criteria_provided,_single_submitter                 \n",
       "15510                                                     \n",
       "15511                                                     \n",
       "15512                                                     \n",
       "15513                                                     \n",
       "15514                                                     \n",
       "15515 criteria_provided,_single_submitter                 \n",
       "15516                                                     \n",
       "15517                                                     \n",
       "      Class                                        func_class\n",
       "1                                                  NA        \n",
       "2     Pathogenic                                    3        \n",
       "3                                                   3        \n",
       "4                                                   3        \n",
       "5                                                   3        \n",
       "6     Pathogenic                                    3        \n",
       "7                                                  NA        \n",
       "8                                                  NA        \n",
       "9     Pathogenic                                    3        \n",
       "10                                                  1        \n",
       "11                                                  3        \n",
       "12                                                  1        \n",
       "13                                                  1        \n",
       "14                                                  2        \n",
       "15                                                  2        \n",
       "16                                                 NA        \n",
       "17                                                 NA        \n",
       "18                                                  1        \n",
       "19                                                  1        \n",
       "20                                                 NA        \n",
       "21                                                  1        \n",
       "22                                                 NA        \n",
       "23                                                  1        \n",
       "24                                                 NA        \n",
       "25                                                 NA        \n",
       "26                                                 NA        \n",
       "27                                                  1        \n",
       "28                                                  1        \n",
       "29    Conflicting_interpretations_of_pathogenicity  1        \n",
       "30                                                  1        \n",
       "⋮     ⋮                                            ⋮         \n",
       "15488 Uncertain_significance                       NA        \n",
       "15489                                              NA        \n",
       "15490                                              NA        \n",
       "15491                                              NA        \n",
       "15492                                              NA        \n",
       "15493                                              NA        \n",
       "15494 Uncertain_significance                       NA        \n",
       "15495 Conflicting_interpretations_of_pathogenicity NA        \n",
       "15496                                              NA        \n",
       "15497                                              NA        \n",
       "15498                                              NA        \n",
       "15499                                              NA        \n",
       "15500                                              NA        \n",
       "15501                                              NA        \n",
       "15502                                              NA        \n",
       "15503                                              NA        \n",
       "15504                                              NA        \n",
       "15505 Likely_benign                                NA        \n",
       "15506                                              NA        \n",
       "15507                                              NA        \n",
       "15508                                              NA        \n",
       "15509 Uncertain_significance                       NA        \n",
       "15510                                              NA        \n",
       "15511                                              NA        \n",
       "15512                                              NA        \n",
       "15513                                              NA        \n",
       "15514                                              NA        \n",
       "15515 Uncertain_significance                       NA        \n",
       "15516                                              NA        \n",
       "15517                                              NA        \n",
       "      gnomad_control_obs\n",
       "1     0                 \n",
       "2     3                 \n",
       "3     0                 \n",
       "4     0                 \n",
       "5     0                 \n",
       "6     0                 \n",
       "7     0                 \n",
       "8     0                 \n",
       "9     1                 \n",
       "10    3                 \n",
       "11    0                 \n",
       "12    0                 \n",
       "13    0                 \n",
       "14    0                 \n",
       "15    0                 \n",
       "16    0                 \n",
       "17    3                 \n",
       "18    0                 \n",
       "19    0                 \n",
       "20    0                 \n",
       "21    0                 \n",
       "22    0                 \n",
       "23    1                 \n",
       "24    0                 \n",
       "25    0                 \n",
       "26    3                 \n",
       "27    0                 \n",
       "28    0                 \n",
       "29    1                 \n",
       "30    0                 \n",
       "⋮     ⋮                 \n",
       "15488 0                 \n",
       "15489 0                 \n",
       "15490 0                 \n",
       "15491 0                 \n",
       "15492 0                 \n",
       "15493 0                 \n",
       "15494 0                 \n",
       "15495 0                 \n",
       "15496 0                 \n",
       "15497 0                 \n",
       "15498 0                 \n",
       "15499 0                 \n",
       "15500 0                 \n",
       "15501 0                 \n",
       "15502 0                 \n",
       "15503 0                 \n",
       "15504 0                 \n",
       "15505 0                 \n",
       "15506 0                 \n",
       "15507 0                 \n",
       "15508 0                 \n",
       "15509 0                 \n",
       "15510 0                 \n",
       "15511 0                 \n",
       "15512 0                 \n",
       "15513 0                 \n",
       "15514 0                 \n",
       "15515 0                 \n",
       "15516 0                 \n",
       "15517 0                 "
      ]
     },
     "metadata": {},
     "output_type": "display_data"
    }
   ],
   "source": [
    "test_data_unique"
   ]
  },
  {
   "cell_type": "markdown",
   "metadata": {},
   "source": [
    "### summarize"
   ]
  },
  {
   "cell_type": "code",
   "execution_count": null,
   "metadata": {},
   "outputs": [],
   "source": [
    "#data_summary = input_data_unique %>%\n",
    "#  filter(!is.na(func_class)) %>%\n",
    "#  group_by(func_class) %>%\n",
    "#  summarise(control_obs = sum(control_obs),\n",
    "#            case_obs = sum(OBS))\n"
   ]
  },
  {
   "cell_type": "code",
   "execution_count": 18,
   "metadata": {},
   "outputs": [],
   "source": [
    "data_summary = input_data_unique %>%\n",
    "  filter(!is.na(func_class)) %>%\n",
    "  group_by(func_class) %>%\n",
    "  summarise(control_obs = sum(control_obs, na.rm =T),\n",
    "            case_obs = sum(case_obs, na.rm =T))\n",
    "\n"
   ]
  },
  {
   "cell_type": "code",
   "execution_count": 19,
   "metadata": {},
   "outputs": [
    {
     "data": {
      "text/html": [
       "<table class=\"dataframe\">\n",
       "<caption>A tibble: 3 × 3</caption>\n",
       "<thead>\n",
       "\t<tr><th scope=col>func_class</th><th scope=col>control_obs</th><th scope=col>case_obs</th></tr>\n",
       "\t<tr><th scope=col>&lt;dbl&gt;</th><th scope=col>&lt;int&gt;</th><th scope=col>&lt;int&gt;</th></tr>\n",
       "</thead>\n",
       "<tbody>\n",
       "\t<tr><td>1</td><td>106</td><td>133</td></tr>\n",
       "\t<tr><td>2</td><td>  0</td><td>  5</td></tr>\n",
       "\t<tr><td>3</td><td>  5</td><td> 77</td></tr>\n",
       "</tbody>\n",
       "</table>\n"
      ],
      "text/latex": [
       "A tibble: 3 × 3\n",
       "\\begin{tabular}{lll}\n",
       " func\\_class & control\\_obs & case\\_obs\\\\\n",
       " <dbl> & <int> & <int>\\\\\n",
       "\\hline\n",
       "\t 1 & 106 & 133\\\\\n",
       "\t 2 &   0 &   5\\\\\n",
       "\t 3 &   5 &  77\\\\\n",
       "\\end{tabular}\n"
      ],
      "text/markdown": [
       "\n",
       "A tibble: 3 × 3\n",
       "\n",
       "| func_class &lt;dbl&gt; | control_obs &lt;int&gt; | case_obs &lt;int&gt; |\n",
       "|---|---|---|\n",
       "| 1 | 106 | 133 |\n",
       "| 2 |   0 |   5 |\n",
       "| 3 |   5 |  77 |\n",
       "\n"
      ],
      "text/plain": [
       "  func_class control_obs case_obs\n",
       "1 1          106         133     \n",
       "2 2            0           5     \n",
       "3 3            5          77     "
      ]
     },
     "metadata": {},
     "output_type": "display_data"
    }
   ],
   "source": [
    "head(data_summary)\n",
    "\n",
    "#including clinvar scores"
   ]
  },
  {
   "cell_type": "code",
   "execution_count": 20,
   "metadata": {},
   "outputs": [],
   "source": [
    "non_carriers = data.frame(\n",
    "  func_class = 0,\n",
    "  control_obs = control - sum(data_summary$control_obs),\n",
    "  case_obs = case - sum(data_summary$case_obs)\n",
    ")\n",
    "\n",
    "data_summary_final = rbind(non_carriers, data_summary)"
   ]
  },
  {
   "cell_type": "code",
   "execution_count": 21,
   "metadata": {},
   "outputs": [
    {
     "data": {
      "text/html": [
       "<table class=\"dataframe\">\n",
       "<caption>A data.frame: 4 × 3</caption>\n",
       "<thead>\n",
       "\t<tr><th scope=col>func_class</th><th scope=col>control_obs</th><th scope=col>case_obs</th></tr>\n",
       "\t<tr><th scope=col>&lt;dbl&gt;</th><th scope=col>&lt;dbl&gt;</th><th scope=col>&lt;dbl&gt;</th></tr>\n",
       "</thead>\n",
       "<tbody>\n",
       "\t<tr><td>0</td><td>43370</td><td>46091</td></tr>\n",
       "\t<tr><td>1</td><td>  106</td><td>  133</td></tr>\n",
       "\t<tr><td>2</td><td>    0</td><td>    5</td></tr>\n",
       "\t<tr><td>3</td><td>    5</td><td>   77</td></tr>\n",
       "</tbody>\n",
       "</table>\n"
      ],
      "text/latex": [
       "A data.frame: 4 × 3\n",
       "\\begin{tabular}{lll}\n",
       " func\\_class & control\\_obs & case\\_obs\\\\\n",
       " <dbl> & <dbl> & <dbl>\\\\\n",
       "\\hline\n",
       "\t 0 & 43370 & 46091\\\\\n",
       "\t 1 &   106 &   133\\\\\n",
       "\t 2 &     0 &     5\\\\\n",
       "\t 3 &     5 &    77\\\\\n",
       "\\end{tabular}\n"
      ],
      "text/markdown": [
       "\n",
       "A data.frame: 4 × 3\n",
       "\n",
       "| func_class &lt;dbl&gt; | control_obs &lt;dbl&gt; | case_obs &lt;dbl&gt; |\n",
       "|---|---|---|\n",
       "| 0 | 43370 | 46091 |\n",
       "| 1 |   106 |   133 |\n",
       "| 2 |     0 |     5 |\n",
       "| 3 |     5 |    77 |\n",
       "\n"
      ],
      "text/plain": [
       "  func_class control_obs case_obs\n",
       "1 0          43370       46091   \n",
       "2 1            106         133   \n",
       "3 2              0           5   \n",
       "4 3              5          77   "
      ]
     },
     "metadata": {},
     "output_type": "display_data"
    }
   ],
   "source": [
    "data_summary_final"
   ]
  },
  {
   "cell_type": "markdown",
   "metadata": {},
   "source": [
    "### expand to long table for logistic regression"
   ]
  },
  {
   "cell_type": "code",
   "execution_count": 22,
   "metadata": {},
   "outputs": [],
   "source": [
    "long_data = data_summary_final %>%\n",
    "  gather(key = \"Category\", value = \"Count\", -func_class) %>%\n",
    "  rowwise() %>%\n",
    "  do(data.frame(status = rep(.$Category, .$Count),\n",
    "                func_class = rep(.$func_class, .$Count)))"
   ]
  },
  {
   "cell_type": "markdown",
   "metadata": {},
   "source": [
    "### Convert status to a factor\n",
    " 0 = controls\n",
    "\n",
    " 1 = cases"
   ]
  },
  {
   "cell_type": "code",
   "execution_count": 23,
   "metadata": {},
   "outputs": [],
   "source": [
    "\n",
    "long_data$status = ifelse(long_data$status == \"control_obs\", 0,\n",
    "                          1)\n",
    "long_data$status = factor(long_data$status)\n",
    "long_data$func_class = factor(long_data$func_class)"
   ]
  },
  {
   "cell_type": "markdown",
   "metadata": {},
   "source": [
    "### glm model"
   ]
  },
  {
   "cell_type": "markdown",
   "metadata": {},
   "source": [
    "Here we use the glm function to fit a model."
   ]
  },
  {
   "cell_type": "code",
   "execution_count": 24,
   "metadata": {},
   "outputs": [
    {
     "data": {
      "text/plain": [
       "\n",
       "Call:\n",
       "glm(formula = status ~ factor(func_class), family = binomial, \n",
       "    data = long_data)\n",
       "\n",
       "Coefficients:\n",
       "                    Estimate Std. Error z value Pr(>|z|)    \n",
       "(Intercept)          0.06085    0.00669   9.096  < 2e-16 ***\n",
       "factor(func_class)1  0.16606    0.13037   1.274    0.203    \n",
       "factor(func_class)2  9.50511   32.40637   0.293    0.769    \n",
       "factor(func_class)3  2.67352    0.46155   5.792 6.94e-09 ***\n",
       "---\n",
       "Signif. codes:  0 ‘***’ 0.001 ‘**’ 0.01 ‘*’ 0.05 ‘.’ 0.1 ‘ ’ 1\n",
       "\n",
       "(Dispersion parameter for binomial family taken to be 1)\n",
       "\n",
       "    Null deviance: 124382  on 89786  degrees of freedom\n",
       "Residual deviance: 124302  on 89783  degrees of freedom\n",
       "AIC: 124310\n",
       "\n",
       "Number of Fisher Scoring iterations: 8\n"
      ]
     },
     "metadata": {},
     "output_type": "display_data"
    }
   ],
   "source": [
    "model = glm(status ~ factor(func_class), data = long_data, family = binomial)\n",
    "summary(model)"
   ]
  },
  {
   "cell_type": "markdown",
   "metadata": {},
   "source": [
    "### extract coefficients and standard errors"
   ]
  },
  {
   "cell_type": "code",
   "execution_count": 25,
   "metadata": {},
   "outputs": [],
   "source": [
    "coef_estimates = summary(model)$coefficients\n",
    "log_odds = coef_estimates[, \"Estimate\"]\n",
    "se = coef_estimates[, \"Std. Error\"]"
   ]
  },
  {
   "cell_type": "markdown",
   "metadata": {},
   "source": [
    "### calculate 95% CI"
   ]
  },
  {
   "cell_type": "code",
   "execution_count": 26,
   "metadata": {},
   "outputs": [],
   "source": [
    "\n",
    "z_value = qnorm(0.975) #1.96 for 95%CI (finds the critical value in the upper tail (0.05/2 = 0.025. 1-0.25 = 0.975))\n",
    "ci_log_odds_lower = log_odds - z_value * se\n",
    "ci_log_odds_upper = log_odds + z_value * se"
   ]
  },
  {
   "cell_type": "markdown",
   "metadata": {},
   "source": [
    "### convert to odds ratios and corresponding CIs"
   ]
  },
  {
   "cell_type": "code",
   "execution_count": 27,
   "metadata": {},
   "outputs": [],
   "source": [
    "odds_ratios = exp(log_odds)\n",
    "ci_odds_ratios_lower = exp(ci_log_odds_lower)\n",
    "ci_odds_ratios_upper = exp(ci_log_odds_upper)"
   ]
  },
  {
   "cell_type": "markdown",
   "metadata": {},
   "source": [
    "### make new df"
   ]
  },
  {
   "cell_type": "code",
   "execution_count": 31,
   "metadata": {},
   "outputs": [
    {
     "data": {
      "text/html": [
       "<table class=\"dataframe\">\n",
       "<caption>A data.frame: 4 × 3</caption>\n",
       "<thead>\n",
       "\t<tr><th></th><th scope=col>OR</th><th scope=col>CI_lower</th><th scope=col>CI_upper</th></tr>\n",
       "\t<tr><th></th><th scope=col>&lt;dbl&gt;</th><th scope=col>&lt;dbl&gt;</th><th scope=col>&lt;dbl&gt;</th></tr>\n",
       "</thead>\n",
       "<tbody>\n",
       "\t<tr><th scope=row>(Intercept)</th><td>    1.06</td><td>1.05</td><td>1.080000e+00</td></tr>\n",
       "\t<tr><th scope=row>factor(func_class)1</th><td>    1.18</td><td>0.91</td><td>1.520000e+00</td></tr>\n",
       "\t<tr><th scope=row>factor(func_class)2</th><td>13428.14</td><td>0.00</td><td>5.156699e+31</td></tr>\n",
       "\t<tr><th scope=row>factor(func_class)3</th><td>   14.49</td><td>5.86</td><td>3.581000e+01</td></tr>\n",
       "</tbody>\n",
       "</table>\n"
      ],
      "text/latex": [
       "A data.frame: 4 × 3\n",
       "\\begin{tabular}{r|lll}\n",
       "  & OR & CI\\_lower & CI\\_upper\\\\\n",
       "  & <dbl> & <dbl> & <dbl>\\\\\n",
       "\\hline\n",
       "\t(Intercept) &     1.06 & 1.05 & 1.080000e+00\\\\\n",
       "\tfactor(func\\_class)1 &     1.18 & 0.91 & 1.520000e+00\\\\\n",
       "\tfactor(func\\_class)2 & 13428.14 & 0.00 & 5.156699e+31\\\\\n",
       "\tfactor(func\\_class)3 &    14.49 & 5.86 & 3.581000e+01\\\\\n",
       "\\end{tabular}\n"
      ],
      "text/markdown": [
       "\n",
       "A data.frame: 4 × 3\n",
       "\n",
       "| <!--/--> | OR &lt;dbl&gt; | CI_lower &lt;dbl&gt; | CI_upper &lt;dbl&gt; |\n",
       "|---|---|---|---|\n",
       "| (Intercept) |     1.06 | 1.05 | 1.080000e+00 |\n",
       "| factor(func_class)1 |     1.18 | 0.91 | 1.520000e+00 |\n",
       "| factor(func_class)2 | 13428.14 | 0.00 | 5.156699e+31 |\n",
       "| factor(func_class)3 |    14.49 | 5.86 | 3.581000e+01 |\n",
       "\n"
      ],
      "text/plain": [
       "                    OR       CI_lower CI_upper    \n",
       "(Intercept)             1.06 1.05     1.080000e+00\n",
       "factor(func_class)1     1.18 0.91     1.520000e+00\n",
       "factor(func_class)2 13428.14 0.00     5.156699e+31\n",
       "factor(func_class)3    14.49 5.86     3.581000e+01"
      ]
     },
     "metadata": {},
     "output_type": "display_data"
    }
   ],
   "source": [
    "or_results = data.frame(\n",
    "  OR = odds_ratios,\n",
    "  CI_lower = ci_odds_ratios_lower,\n",
    "  CI_upper = ci_odds_ratios_upper\n",
    ")\n",
    "or_results = or_results %>%\n",
    "  mutate(across(where(is.numeric), ~round(., 2)))\n",
    "or_results"
   ]
  },
  {
   "cell_type": "markdown",
   "metadata": {},
   "source": [
    "(something on interpreting prop_path maybe?)"
   ]
  },
  {
   "cell_type": "code",
   "execution_count": 30,
   "metadata": {},
   "outputs": [
    {
     "name": "stdout",
     "output_type": "stream",
     "text": [
      "                    func_class control_obs case_obs       OR CI_lower\n",
      "(Intercept)                  0       43370    46091     1.06     1.05\n",
      "factor(func_class)1          1         106      133     1.18     0.91\n",
      "factor(func_class)2          2           0        5 13428.14     0.00\n",
      "factor(func_class)3          3           5       77    14.49     5.86\n",
      "                        CI_upper controls cases pop_freq prop_threshold\n",
      "(Intercept)         1.080000e+00    43481 46306     0.12      0.4054054\n",
      "factor(func_class)1 1.520000e+00    43481 46306     0.12      0.4054054\n",
      "factor(func_class)2 5.156699e+31    43481 46306     0.12      0.4054054\n",
      "factor(func_class)3 3.581000e+01    43481 46306     0.12      0.4054054\n",
      "                    prop_path\n",
      "(Intercept)              0.00\n",
      "factor(func_class)1      0.06\n",
      "factor(func_class)2      1.00\n",
      "factor(func_class)3      1.00\n"
     ]
    }
   ],
   "source": [
    "prop_path = cbind(data_summary_final, or_results)\n",
    "prop_path$controls = control\n",
    "prop_path$cases = case\n",
    "prop_path$pop_freq = d0\n",
    "prop_path$prop_threshold = d1\n",
    "prop_path$prop_path = apply(prop_path, 1, function(row) propallpath(row[2], row[7], row[3], row[8], row[9], row[10]))\n",
    "prop_path$prop_path = round(prop_path$prop_path, 2)\n",
    "print(prop_path)"
   ]
  }
 ],
 "metadata": {
  "kernelspec": {
   "display_name": "R",
   "language": "R",
   "name": "ir"
  },
  "language_info": {
   "codemirror_mode": "r",
   "file_extension": ".r",
   "mimetype": "text/x-r-source",
   "name": "R",
   "pygments_lexer": "r",
   "version": "4.4.0"
  },
  "toc": {
   "base_numbering": 1,
   "nav_menu": {},
   "number_sections": true,
   "sideBar": true,
   "skip_h1_title": false,
   "title_cell": "Table of Contents",
   "title_sidebar": "Contents",
   "toc_cell": false,
   "toc_position": {},
   "toc_section_display": true,
   "toc_window_display": false
  }
 },
 "nbformat": 4,
 "nbformat_minor": 2
}
